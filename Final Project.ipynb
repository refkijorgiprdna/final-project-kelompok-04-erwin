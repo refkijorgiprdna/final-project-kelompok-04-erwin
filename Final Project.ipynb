{
 "cells": [
  {
   "cell_type": "markdown",
   "id": "468ce1dd",
   "metadata": {},
   "source": [
    "## Mobile Price Classification"
   ]
  },
  {
   "cell_type": "code",
   "execution_count": 126,
   "id": "80a9316d",
   "metadata": {},
   "outputs": [],
   "source": [
    "import pandas as pd #mengimport library pandas\n",
    "import numpy as np #mengimport library numpy\n",
    "import seaborn as sns #mengimport library seaborn\n",
    "import matplotlib.pyplot as plt #mengimport library matplotlib.pyplot"
   ]
  },
  {
   "cell_type": "code",
   "execution_count": 127,
   "id": "a64d8b73",
   "metadata": {
    "scrolled": false
   },
   "outputs": [
    {
     "data": {
      "text/html": [
       "<div>\n",
       "<style scoped>\n",
       "    .dataframe tbody tr th:only-of-type {\n",
       "        vertical-align: middle;\n",
       "    }\n",
       "\n",
       "    .dataframe tbody tr th {\n",
       "        vertical-align: top;\n",
       "    }\n",
       "\n",
       "    .dataframe thead th {\n",
       "        text-align: right;\n",
       "    }\n",
       "</style>\n",
       "<table border=\"1\" class=\"dataframe\">\n",
       "  <thead>\n",
       "    <tr style=\"text-align: right;\">\n",
       "      <th></th>\n",
       "      <th>battery_power</th>\n",
       "      <th>blue</th>\n",
       "      <th>clock_speed</th>\n",
       "      <th>dual_sim</th>\n",
       "      <th>fc</th>\n",
       "      <th>four_g</th>\n",
       "      <th>int_memory</th>\n",
       "      <th>m_dep</th>\n",
       "      <th>mobile_wt</th>\n",
       "      <th>n_cores</th>\n",
       "      <th>...</th>\n",
       "      <th>px_height</th>\n",
       "      <th>px_width</th>\n",
       "      <th>ram</th>\n",
       "      <th>sc_h</th>\n",
       "      <th>sc_w</th>\n",
       "      <th>talk_time</th>\n",
       "      <th>three_g</th>\n",
       "      <th>touch_screen</th>\n",
       "      <th>wifi</th>\n",
       "      <th>price_range</th>\n",
       "    </tr>\n",
       "  </thead>\n",
       "  <tbody>\n",
       "    <tr>\n",
       "      <th>0</th>\n",
       "      <td>842</td>\n",
       "      <td>0</td>\n",
       "      <td>2.2</td>\n",
       "      <td>0</td>\n",
       "      <td>1</td>\n",
       "      <td>0</td>\n",
       "      <td>7</td>\n",
       "      <td>0.6</td>\n",
       "      <td>188</td>\n",
       "      <td>2</td>\n",
       "      <td>...</td>\n",
       "      <td>20</td>\n",
       "      <td>756</td>\n",
       "      <td>2549</td>\n",
       "      <td>9</td>\n",
       "      <td>7</td>\n",
       "      <td>19</td>\n",
       "      <td>0</td>\n",
       "      <td>0</td>\n",
       "      <td>1</td>\n",
       "      <td>1</td>\n",
       "    </tr>\n",
       "    <tr>\n",
       "      <th>1</th>\n",
       "      <td>1021</td>\n",
       "      <td>1</td>\n",
       "      <td>0.5</td>\n",
       "      <td>1</td>\n",
       "      <td>0</td>\n",
       "      <td>1</td>\n",
       "      <td>53</td>\n",
       "      <td>0.7</td>\n",
       "      <td>136</td>\n",
       "      <td>3</td>\n",
       "      <td>...</td>\n",
       "      <td>905</td>\n",
       "      <td>1988</td>\n",
       "      <td>2631</td>\n",
       "      <td>17</td>\n",
       "      <td>3</td>\n",
       "      <td>7</td>\n",
       "      <td>1</td>\n",
       "      <td>1</td>\n",
       "      <td>0</td>\n",
       "      <td>2</td>\n",
       "    </tr>\n",
       "    <tr>\n",
       "      <th>2</th>\n",
       "      <td>563</td>\n",
       "      <td>1</td>\n",
       "      <td>0.5</td>\n",
       "      <td>1</td>\n",
       "      <td>2</td>\n",
       "      <td>1</td>\n",
       "      <td>41</td>\n",
       "      <td>0.9</td>\n",
       "      <td>145</td>\n",
       "      <td>5</td>\n",
       "      <td>...</td>\n",
       "      <td>1263</td>\n",
       "      <td>1716</td>\n",
       "      <td>2603</td>\n",
       "      <td>11</td>\n",
       "      <td>2</td>\n",
       "      <td>9</td>\n",
       "      <td>1</td>\n",
       "      <td>1</td>\n",
       "      <td>0</td>\n",
       "      <td>2</td>\n",
       "    </tr>\n",
       "    <tr>\n",
       "      <th>3</th>\n",
       "      <td>615</td>\n",
       "      <td>1</td>\n",
       "      <td>2.5</td>\n",
       "      <td>0</td>\n",
       "      <td>0</td>\n",
       "      <td>0</td>\n",
       "      <td>10</td>\n",
       "      <td>0.8</td>\n",
       "      <td>131</td>\n",
       "      <td>6</td>\n",
       "      <td>...</td>\n",
       "      <td>1216</td>\n",
       "      <td>1786</td>\n",
       "      <td>2769</td>\n",
       "      <td>16</td>\n",
       "      <td>8</td>\n",
       "      <td>11</td>\n",
       "      <td>1</td>\n",
       "      <td>0</td>\n",
       "      <td>0</td>\n",
       "      <td>2</td>\n",
       "    </tr>\n",
       "    <tr>\n",
       "      <th>4</th>\n",
       "      <td>1821</td>\n",
       "      <td>1</td>\n",
       "      <td>1.2</td>\n",
       "      <td>0</td>\n",
       "      <td>13</td>\n",
       "      <td>1</td>\n",
       "      <td>44</td>\n",
       "      <td>0.6</td>\n",
       "      <td>141</td>\n",
       "      <td>2</td>\n",
       "      <td>...</td>\n",
       "      <td>1208</td>\n",
       "      <td>1212</td>\n",
       "      <td>1411</td>\n",
       "      <td>8</td>\n",
       "      <td>2</td>\n",
       "      <td>15</td>\n",
       "      <td>1</td>\n",
       "      <td>1</td>\n",
       "      <td>0</td>\n",
       "      <td>1</td>\n",
       "    </tr>\n",
       "  </tbody>\n",
       "</table>\n",
       "<p>5 rows × 21 columns</p>\n",
       "</div>"
      ],
      "text/plain": [
       "   battery_power  blue  clock_speed  dual_sim  fc  four_g  int_memory  m_dep  \\\n",
       "0            842     0          2.2         0   1       0           7    0.6   \n",
       "1           1021     1          0.5         1   0       1          53    0.7   \n",
       "2            563     1          0.5         1   2       1          41    0.9   \n",
       "3            615     1          2.5         0   0       0          10    0.8   \n",
       "4           1821     1          1.2         0  13       1          44    0.6   \n",
       "\n",
       "   mobile_wt  n_cores  ...  px_height  px_width   ram  sc_h  sc_w  talk_time  \\\n",
       "0        188        2  ...         20       756  2549     9     7         19   \n",
       "1        136        3  ...        905      1988  2631    17     3          7   \n",
       "2        145        5  ...       1263      1716  2603    11     2          9   \n",
       "3        131        6  ...       1216      1786  2769    16     8         11   \n",
       "4        141        2  ...       1208      1212  1411     8     2         15   \n",
       "\n",
       "   three_g  touch_screen  wifi  price_range  \n",
       "0        0             0     1            1  \n",
       "1        1             1     0            2  \n",
       "2        1             1     0            2  \n",
       "3        1             0     0            2  \n",
       "4        1             1     0            1  \n",
       "\n",
       "[5 rows x 21 columns]"
      ]
     },
     "execution_count": 127,
     "metadata": {},
     "output_type": "execute_result"
    }
   ],
   "source": [
    "df = pd.read_csv('train.csv') #mengimport data train.csv\n",
    "df.head() #menampilkan 5 baris data teratas "
   ]
  },
  {
   "cell_type": "markdown",
   "id": "e735f9fd",
   "metadata": {},
   "source": [
    "#### Exploratory Data Analysis"
   ]
  },
  {
   "cell_type": "code",
   "execution_count": 128,
   "id": "f623fa36",
   "metadata": {
    "scrolled": false
   },
   "outputs": [
    {
     "name": "stdout",
     "output_type": "stream",
     "text": [
      "<class 'pandas.core.frame.DataFrame'>\n",
      "RangeIndex: 2000 entries, 0 to 1999\n",
      "Data columns (total 21 columns):\n",
      " #   Column         Non-Null Count  Dtype  \n",
      "---  ------         --------------  -----  \n",
      " 0   battery_power  2000 non-null   int64  \n",
      " 1   blue           2000 non-null   int64  \n",
      " 2   clock_speed    2000 non-null   float64\n",
      " 3   dual_sim       2000 non-null   int64  \n",
      " 4   fc             2000 non-null   int64  \n",
      " 5   four_g         2000 non-null   int64  \n",
      " 6   int_memory     2000 non-null   int64  \n",
      " 7   m_dep          2000 non-null   float64\n",
      " 8   mobile_wt      2000 non-null   int64  \n",
      " 9   n_cores        2000 non-null   int64  \n",
      " 10  pc             2000 non-null   int64  \n",
      " 11  px_height      2000 non-null   int64  \n",
      " 12  px_width       2000 non-null   int64  \n",
      " 13  ram            2000 non-null   int64  \n",
      " 14  sc_h           2000 non-null   int64  \n",
      " 15  sc_w           2000 non-null   int64  \n",
      " 16  talk_time      2000 non-null   int64  \n",
      " 17  three_g        2000 non-null   int64  \n",
      " 18  touch_screen   2000 non-null   int64  \n",
      " 19  wifi           2000 non-null   int64  \n",
      " 20  price_range    2000 non-null   int64  \n",
      "dtypes: float64(2), int64(19)\n",
      "memory usage: 328.2 KB\n"
     ]
    }
   ],
   "source": [
    "df.info() #menampilkan informasi detail tentang dataframe, seperti jumlah baris data, nama-nama kolom berserta jumlah data dan tipe datanya"
   ]
  },
  {
   "cell_type": "markdown",
   "id": "9351aaf4",
   "metadata": {},
   "source": [
    "Penjelasan :\n",
    "- battery_power : Total energy a battery can store in one time measured in mAh\n",
    "- blue : Has bluetooth or not\n",
    "- clock_speed : speed at which microprocessor executes instructions\n",
    "- dual_sim : Has dual sim support or not\n",
    "- fc : Front Camera mega pixels\n",
    "- four_g : Has 4G or not\n",
    "- int_memory : Internal Memory in Gigabytes\n",
    "- m_dep : Mobile Depth in cm\n",
    "- mobile_wt : Weight of mobile phone\n",
    "- n_cores : Number of cores of processor\n",
    "- pc : Primary Camera mega pixels\n",
    "- px_height : Pixel Resolution Height\n",
    "- px_width : Pixel Resolution Width\n",
    "- ram : Random Access Memory in Mega Bytes\n",
    "- sc_h : Screen Height of mobile in cm\n",
    "- sc_w : Screen Width of mobile in cm\n",
    "- talk_time : longest time that a single battery charge will last when you are\n",
    "- three_g : Has 3G or not\n",
    "- touch_screen : Has touch screen or not\n",
    "- wifi : Has wifi or not\n",
    "- price_range : This is the target variable with value of 0(low cost), 1(medium cost), 2(high cost) and 3(very high cost)."
   ]
  },
  {
   "cell_type": "code",
   "execution_count": 129,
   "id": "dee1dc25",
   "metadata": {},
   "outputs": [
    {
     "data": {
      "text/html": [
       "<div>\n",
       "<style scoped>\n",
       "    .dataframe tbody tr th:only-of-type {\n",
       "        vertical-align: middle;\n",
       "    }\n",
       "\n",
       "    .dataframe tbody tr th {\n",
       "        vertical-align: top;\n",
       "    }\n",
       "\n",
       "    .dataframe thead th {\n",
       "        text-align: right;\n",
       "    }\n",
       "</style>\n",
       "<table border=\"1\" class=\"dataframe\">\n",
       "  <thead>\n",
       "    <tr style=\"text-align: right;\">\n",
       "      <th></th>\n",
       "      <th>battery_power</th>\n",
       "      <th>blue</th>\n",
       "      <th>clock_speed</th>\n",
       "      <th>dual_sim</th>\n",
       "      <th>fc</th>\n",
       "      <th>four_g</th>\n",
       "      <th>int_memory</th>\n",
       "      <th>m_dep</th>\n",
       "      <th>mobile_wt</th>\n",
       "      <th>n_cores</th>\n",
       "      <th>...</th>\n",
       "      <th>px_height</th>\n",
       "      <th>px_width</th>\n",
       "      <th>ram</th>\n",
       "      <th>sc_h</th>\n",
       "      <th>sc_w</th>\n",
       "      <th>talk_time</th>\n",
       "      <th>three_g</th>\n",
       "      <th>touch_screen</th>\n",
       "      <th>wifi</th>\n",
       "      <th>price_range</th>\n",
       "    </tr>\n",
       "  </thead>\n",
       "  <tbody>\n",
       "    <tr>\n",
       "      <th>count</th>\n",
       "      <td>2000.000000</td>\n",
       "      <td>2000.0000</td>\n",
       "      <td>2000.000000</td>\n",
       "      <td>2000.000000</td>\n",
       "      <td>2000.000000</td>\n",
       "      <td>2000.000000</td>\n",
       "      <td>2000.000000</td>\n",
       "      <td>2000.000000</td>\n",
       "      <td>2000.000000</td>\n",
       "      <td>2000.000000</td>\n",
       "      <td>...</td>\n",
       "      <td>2000.000000</td>\n",
       "      <td>2000.000000</td>\n",
       "      <td>2000.000000</td>\n",
       "      <td>2000.000000</td>\n",
       "      <td>2000.000000</td>\n",
       "      <td>2000.000000</td>\n",
       "      <td>2000.000000</td>\n",
       "      <td>2000.000000</td>\n",
       "      <td>2000.000000</td>\n",
       "      <td>2000.000000</td>\n",
       "    </tr>\n",
       "    <tr>\n",
       "      <th>mean</th>\n",
       "      <td>1238.518500</td>\n",
       "      <td>0.4950</td>\n",
       "      <td>1.522250</td>\n",
       "      <td>0.509500</td>\n",
       "      <td>4.309500</td>\n",
       "      <td>0.521500</td>\n",
       "      <td>32.046500</td>\n",
       "      <td>0.501750</td>\n",
       "      <td>140.249000</td>\n",
       "      <td>4.520500</td>\n",
       "      <td>...</td>\n",
       "      <td>645.108000</td>\n",
       "      <td>1251.515500</td>\n",
       "      <td>2124.213000</td>\n",
       "      <td>12.306500</td>\n",
       "      <td>5.767000</td>\n",
       "      <td>11.011000</td>\n",
       "      <td>0.761500</td>\n",
       "      <td>0.503000</td>\n",
       "      <td>0.507000</td>\n",
       "      <td>1.500000</td>\n",
       "    </tr>\n",
       "    <tr>\n",
       "      <th>std</th>\n",
       "      <td>439.418206</td>\n",
       "      <td>0.5001</td>\n",
       "      <td>0.816004</td>\n",
       "      <td>0.500035</td>\n",
       "      <td>4.341444</td>\n",
       "      <td>0.499662</td>\n",
       "      <td>18.145715</td>\n",
       "      <td>0.288416</td>\n",
       "      <td>35.399655</td>\n",
       "      <td>2.287837</td>\n",
       "      <td>...</td>\n",
       "      <td>443.780811</td>\n",
       "      <td>432.199447</td>\n",
       "      <td>1084.732044</td>\n",
       "      <td>4.213245</td>\n",
       "      <td>4.356398</td>\n",
       "      <td>5.463955</td>\n",
       "      <td>0.426273</td>\n",
       "      <td>0.500116</td>\n",
       "      <td>0.500076</td>\n",
       "      <td>1.118314</td>\n",
       "    </tr>\n",
       "    <tr>\n",
       "      <th>min</th>\n",
       "      <td>501.000000</td>\n",
       "      <td>0.0000</td>\n",
       "      <td>0.500000</td>\n",
       "      <td>0.000000</td>\n",
       "      <td>0.000000</td>\n",
       "      <td>0.000000</td>\n",
       "      <td>2.000000</td>\n",
       "      <td>0.100000</td>\n",
       "      <td>80.000000</td>\n",
       "      <td>1.000000</td>\n",
       "      <td>...</td>\n",
       "      <td>0.000000</td>\n",
       "      <td>500.000000</td>\n",
       "      <td>256.000000</td>\n",
       "      <td>5.000000</td>\n",
       "      <td>0.000000</td>\n",
       "      <td>2.000000</td>\n",
       "      <td>0.000000</td>\n",
       "      <td>0.000000</td>\n",
       "      <td>0.000000</td>\n",
       "      <td>0.000000</td>\n",
       "    </tr>\n",
       "    <tr>\n",
       "      <th>25%</th>\n",
       "      <td>851.750000</td>\n",
       "      <td>0.0000</td>\n",
       "      <td>0.700000</td>\n",
       "      <td>0.000000</td>\n",
       "      <td>1.000000</td>\n",
       "      <td>0.000000</td>\n",
       "      <td>16.000000</td>\n",
       "      <td>0.200000</td>\n",
       "      <td>109.000000</td>\n",
       "      <td>3.000000</td>\n",
       "      <td>...</td>\n",
       "      <td>282.750000</td>\n",
       "      <td>874.750000</td>\n",
       "      <td>1207.500000</td>\n",
       "      <td>9.000000</td>\n",
       "      <td>2.000000</td>\n",
       "      <td>6.000000</td>\n",
       "      <td>1.000000</td>\n",
       "      <td>0.000000</td>\n",
       "      <td>0.000000</td>\n",
       "      <td>0.750000</td>\n",
       "    </tr>\n",
       "    <tr>\n",
       "      <th>50%</th>\n",
       "      <td>1226.000000</td>\n",
       "      <td>0.0000</td>\n",
       "      <td>1.500000</td>\n",
       "      <td>1.000000</td>\n",
       "      <td>3.000000</td>\n",
       "      <td>1.000000</td>\n",
       "      <td>32.000000</td>\n",
       "      <td>0.500000</td>\n",
       "      <td>141.000000</td>\n",
       "      <td>4.000000</td>\n",
       "      <td>...</td>\n",
       "      <td>564.000000</td>\n",
       "      <td>1247.000000</td>\n",
       "      <td>2146.500000</td>\n",
       "      <td>12.000000</td>\n",
       "      <td>5.000000</td>\n",
       "      <td>11.000000</td>\n",
       "      <td>1.000000</td>\n",
       "      <td>1.000000</td>\n",
       "      <td>1.000000</td>\n",
       "      <td>1.500000</td>\n",
       "    </tr>\n",
       "    <tr>\n",
       "      <th>75%</th>\n",
       "      <td>1615.250000</td>\n",
       "      <td>1.0000</td>\n",
       "      <td>2.200000</td>\n",
       "      <td>1.000000</td>\n",
       "      <td>7.000000</td>\n",
       "      <td>1.000000</td>\n",
       "      <td>48.000000</td>\n",
       "      <td>0.800000</td>\n",
       "      <td>170.000000</td>\n",
       "      <td>7.000000</td>\n",
       "      <td>...</td>\n",
       "      <td>947.250000</td>\n",
       "      <td>1633.000000</td>\n",
       "      <td>3064.500000</td>\n",
       "      <td>16.000000</td>\n",
       "      <td>9.000000</td>\n",
       "      <td>16.000000</td>\n",
       "      <td>1.000000</td>\n",
       "      <td>1.000000</td>\n",
       "      <td>1.000000</td>\n",
       "      <td>2.250000</td>\n",
       "    </tr>\n",
       "    <tr>\n",
       "      <th>max</th>\n",
       "      <td>1998.000000</td>\n",
       "      <td>1.0000</td>\n",
       "      <td>3.000000</td>\n",
       "      <td>1.000000</td>\n",
       "      <td>19.000000</td>\n",
       "      <td>1.000000</td>\n",
       "      <td>64.000000</td>\n",
       "      <td>1.000000</td>\n",
       "      <td>200.000000</td>\n",
       "      <td>8.000000</td>\n",
       "      <td>...</td>\n",
       "      <td>1960.000000</td>\n",
       "      <td>1998.000000</td>\n",
       "      <td>3998.000000</td>\n",
       "      <td>19.000000</td>\n",
       "      <td>18.000000</td>\n",
       "      <td>20.000000</td>\n",
       "      <td>1.000000</td>\n",
       "      <td>1.000000</td>\n",
       "      <td>1.000000</td>\n",
       "      <td>3.000000</td>\n",
       "    </tr>\n",
       "  </tbody>\n",
       "</table>\n",
       "<p>8 rows × 21 columns</p>\n",
       "</div>"
      ],
      "text/plain": [
       "       battery_power       blue  clock_speed     dual_sim           fc  \\\n",
       "count    2000.000000  2000.0000  2000.000000  2000.000000  2000.000000   \n",
       "mean     1238.518500     0.4950     1.522250     0.509500     4.309500   \n",
       "std       439.418206     0.5001     0.816004     0.500035     4.341444   \n",
       "min       501.000000     0.0000     0.500000     0.000000     0.000000   \n",
       "25%       851.750000     0.0000     0.700000     0.000000     1.000000   \n",
       "50%      1226.000000     0.0000     1.500000     1.000000     3.000000   \n",
       "75%      1615.250000     1.0000     2.200000     1.000000     7.000000   \n",
       "max      1998.000000     1.0000     3.000000     1.000000    19.000000   \n",
       "\n",
       "            four_g   int_memory        m_dep    mobile_wt      n_cores  ...  \\\n",
       "count  2000.000000  2000.000000  2000.000000  2000.000000  2000.000000  ...   \n",
       "mean      0.521500    32.046500     0.501750   140.249000     4.520500  ...   \n",
       "std       0.499662    18.145715     0.288416    35.399655     2.287837  ...   \n",
       "min       0.000000     2.000000     0.100000    80.000000     1.000000  ...   \n",
       "25%       0.000000    16.000000     0.200000   109.000000     3.000000  ...   \n",
       "50%       1.000000    32.000000     0.500000   141.000000     4.000000  ...   \n",
       "75%       1.000000    48.000000     0.800000   170.000000     7.000000  ...   \n",
       "max       1.000000    64.000000     1.000000   200.000000     8.000000  ...   \n",
       "\n",
       "         px_height     px_width          ram         sc_h         sc_w  \\\n",
       "count  2000.000000  2000.000000  2000.000000  2000.000000  2000.000000   \n",
       "mean    645.108000  1251.515500  2124.213000    12.306500     5.767000   \n",
       "std     443.780811   432.199447  1084.732044     4.213245     4.356398   \n",
       "min       0.000000   500.000000   256.000000     5.000000     0.000000   \n",
       "25%     282.750000   874.750000  1207.500000     9.000000     2.000000   \n",
       "50%     564.000000  1247.000000  2146.500000    12.000000     5.000000   \n",
       "75%     947.250000  1633.000000  3064.500000    16.000000     9.000000   \n",
       "max    1960.000000  1998.000000  3998.000000    19.000000    18.000000   \n",
       "\n",
       "         talk_time      three_g  touch_screen         wifi  price_range  \n",
       "count  2000.000000  2000.000000   2000.000000  2000.000000  2000.000000  \n",
       "mean     11.011000     0.761500      0.503000     0.507000     1.500000  \n",
       "std       5.463955     0.426273      0.500116     0.500076     1.118314  \n",
       "min       2.000000     0.000000      0.000000     0.000000     0.000000  \n",
       "25%       6.000000     1.000000      0.000000     0.000000     0.750000  \n",
       "50%      11.000000     1.000000      1.000000     1.000000     1.500000  \n",
       "75%      16.000000     1.000000      1.000000     1.000000     2.250000  \n",
       "max      20.000000     1.000000      1.000000     1.000000     3.000000  \n",
       "\n",
       "[8 rows x 21 columns]"
      ]
     },
     "execution_count": 129,
     "metadata": {},
     "output_type": "execute_result"
    }
   ],
   "source": [
    "df.describe()"
   ]
  },
  {
   "cell_type": "code",
   "execution_count": 130,
   "id": "1bf77865",
   "metadata": {},
   "outputs": [],
   "source": [
    "categorical_features=list()\n",
    "numeric_features=list()\n",
    "for column_name in df.columns:\n",
    "    unique_values = len(df[column_name].unique())\n",
    "    if unique_values<30:\n",
    "      categorical_features.append(column_name)\n",
    "    else:\n",
    "      numeric_features.append(column_name)"
   ]
  },
  {
   "cell_type": "code",
   "execution_count": 131,
   "id": "5dfd4a5c",
   "metadata": {},
   "outputs": [
    {
     "data": {
      "text/plain": [
       "['blue',\n",
       " 'clock_speed',\n",
       " 'dual_sim',\n",
       " 'fc',\n",
       " 'four_g',\n",
       " 'm_dep',\n",
       " 'n_cores',\n",
       " 'pc',\n",
       " 'sc_h',\n",
       " 'sc_w',\n",
       " 'talk_time',\n",
       " 'three_g',\n",
       " 'touch_screen',\n",
       " 'wifi',\n",
       " 'price_range']"
      ]
     },
     "execution_count": 131,
     "metadata": {},
     "output_type": "execute_result"
    }
   ],
   "source": [
    "categorical_features"
   ]
  },
  {
   "cell_type": "code",
   "execution_count": 132,
   "id": "a0f28972",
   "metadata": {},
   "outputs": [
    {
     "data": {
      "text/plain": [
       "['battery_power', 'int_memory', 'mobile_wt', 'px_height', 'px_width', 'ram']"
      ]
     },
     "execution_count": 132,
     "metadata": {},
     "output_type": "execute_result"
    }
   ],
   "source": [
    "numeric_features"
   ]
  },
  {
   "cell_type": "markdown",
   "id": "814c52c4",
   "metadata": {},
   "source": [
    "#### Data Cleansing"
   ]
  },
  {
   "cell_type": "code",
   "execution_count": 133,
   "id": "a16fc6b4",
   "metadata": {
    "scrolled": true
   },
   "outputs": [
    {
     "data": {
      "text/plain": [
       "battery_power    0\n",
       "blue             0\n",
       "clock_speed      0\n",
       "dual_sim         0\n",
       "fc               0\n",
       "four_g           0\n",
       "int_memory       0\n",
       "m_dep            0\n",
       "mobile_wt        0\n",
       "n_cores          0\n",
       "pc               0\n",
       "px_height        0\n",
       "px_width         0\n",
       "ram              0\n",
       "sc_h             0\n",
       "sc_w             0\n",
       "talk_time        0\n",
       "three_g          0\n",
       "touch_screen     0\n",
       "wifi             0\n",
       "price_range      0\n",
       "dtype: int64"
      ]
     },
     "execution_count": 133,
     "metadata": {},
     "output_type": "execute_result"
    }
   ],
   "source": [
    "#Mengecek apakah ada value yang kosong\n",
    "df.isna().sum()"
   ]
  },
  {
   "cell_type": "markdown",
   "id": "33454dac",
   "metadata": {},
   "source": [
    "Dapat dilihat pada data di atas, bahwa tidak terdapat data yang kosong atau missing value"
   ]
  },
  {
   "cell_type": "markdown",
   "id": "49b96c6f",
   "metadata": {},
   "source": [
    "#### Checking Outliers"
   ]
  },
  {
   "cell_type": "code",
   "execution_count": 134,
   "id": "8f736841",
   "metadata": {
    "scrolled": false
   },
   "outputs": [
    {
     "data": {
      "text/html": [
       "<div>\n",
       "<style scoped>\n",
       "    .dataframe tbody tr th:only-of-type {\n",
       "        vertical-align: middle;\n",
       "    }\n",
       "\n",
       "    .dataframe tbody tr th {\n",
       "        vertical-align: top;\n",
       "    }\n",
       "\n",
       "    .dataframe thead th {\n",
       "        text-align: right;\n",
       "    }\n",
       "</style>\n",
       "<table border=\"1\" class=\"dataframe\">\n",
       "  <thead>\n",
       "    <tr style=\"text-align: right;\">\n",
       "      <th></th>\n",
       "      <th>battery_power</th>\n",
       "      <th>blue</th>\n",
       "      <th>clock_speed</th>\n",
       "      <th>dual_sim</th>\n",
       "      <th>fc</th>\n",
       "      <th>four_g</th>\n",
       "      <th>int_memory</th>\n",
       "      <th>m_dep</th>\n",
       "      <th>mobile_wt</th>\n",
       "      <th>n_cores</th>\n",
       "      <th>...</th>\n",
       "      <th>px_height</th>\n",
       "      <th>px_width</th>\n",
       "      <th>ram</th>\n",
       "      <th>sc_h</th>\n",
       "      <th>sc_w</th>\n",
       "      <th>talk_time</th>\n",
       "      <th>three_g</th>\n",
       "      <th>touch_screen</th>\n",
       "      <th>wifi</th>\n",
       "      <th>price_range</th>\n",
       "    </tr>\n",
       "  </thead>\n",
       "  <tbody>\n",
       "  </tbody>\n",
       "</table>\n",
       "<p>0 rows × 21 columns</p>\n",
       "</div>"
      ],
      "text/plain": [
       "Empty DataFrame\n",
       "Columns: [battery_power, blue, clock_speed, dual_sim, fc, four_g, int_memory, m_dep, mobile_wt, n_cores, pc, px_height, px_width, ram, sc_h, sc_w, talk_time, three_g, touch_screen, wifi, price_range]\n",
       "Index: []\n",
       "\n",
       "[0 rows x 21 columns]"
      ]
     },
     "execution_count": 134,
     "metadata": {},
     "output_type": "execute_result"
    }
   ],
   "source": [
    "#Mengecek outlier\n",
    "import scipy.stats as stats #mengimport library scipy\n",
    "df[(np.abs(stats.zscore(df[\"price_range\"])) >= 3)] #Mengecek outliers kolom price_range dari data train.csv"
   ]
  },
  {
   "cell_type": "code",
   "execution_count": 135,
   "id": "12d12151",
   "metadata": {},
   "outputs": [
    {
     "data": {
      "text/html": [
       "<div>\n",
       "<style scoped>\n",
       "    .dataframe tbody tr th:only-of-type {\n",
       "        vertical-align: middle;\n",
       "    }\n",
       "\n",
       "    .dataframe tbody tr th {\n",
       "        vertical-align: top;\n",
       "    }\n",
       "\n",
       "    .dataframe thead th {\n",
       "        text-align: right;\n",
       "    }\n",
       "</style>\n",
       "<table border=\"1\" class=\"dataframe\">\n",
       "  <thead>\n",
       "    <tr style=\"text-align: right;\">\n",
       "      <th></th>\n",
       "      <th>battery_power</th>\n",
       "      <th>blue</th>\n",
       "      <th>clock_speed</th>\n",
       "      <th>dual_sim</th>\n",
       "      <th>fc</th>\n",
       "      <th>four_g</th>\n",
       "      <th>int_memory</th>\n",
       "      <th>m_dep</th>\n",
       "      <th>mobile_wt</th>\n",
       "      <th>n_cores</th>\n",
       "      <th>...</th>\n",
       "      <th>px_height</th>\n",
       "      <th>px_width</th>\n",
       "      <th>ram</th>\n",
       "      <th>sc_h</th>\n",
       "      <th>sc_w</th>\n",
       "      <th>talk_time</th>\n",
       "      <th>three_g</th>\n",
       "      <th>touch_screen</th>\n",
       "      <th>wifi</th>\n",
       "      <th>price_range</th>\n",
       "    </tr>\n",
       "  </thead>\n",
       "  <tbody>\n",
       "  </tbody>\n",
       "</table>\n",
       "<p>0 rows × 21 columns</p>\n",
       "</div>"
      ],
      "text/plain": [
       "Empty DataFrame\n",
       "Columns: [battery_power, blue, clock_speed, dual_sim, fc, four_g, int_memory, m_dep, mobile_wt, n_cores, pc, px_height, px_width, ram, sc_h, sc_w, talk_time, three_g, touch_screen, wifi, price_range]\n",
       "Index: []\n",
       "\n",
       "[0 rows x 21 columns]"
      ]
     },
     "execution_count": 135,
     "metadata": {},
     "output_type": "execute_result"
    }
   ],
   "source": [
    "q1 = df[\"battery_power\"].quantile(0.25)\n",
    "q3 = df[\"battery_power\"].quantile(0.75)\n",
    "\n",
    "iqr = q3-q1 #Interquartile range\n",
    "fence_low  = q1-1.5*iqr\n",
    "fence_high = q3+1.5*iqr\n",
    "\n",
    "df.loc[(df[\"battery_power\"] < fence_low) | (df[\"battery_power\"] > fence_high)]"
   ]
  },
  {
   "cell_type": "code",
   "execution_count": 136,
   "id": "a832e234",
   "metadata": {
    "scrolled": true
   },
   "outputs": [
    {
     "data": {
      "text/html": [
       "<div>\n",
       "<style scoped>\n",
       "    .dataframe tbody tr th:only-of-type {\n",
       "        vertical-align: middle;\n",
       "    }\n",
       "\n",
       "    .dataframe tbody tr th {\n",
       "        vertical-align: top;\n",
       "    }\n",
       "\n",
       "    .dataframe thead th {\n",
       "        text-align: right;\n",
       "    }\n",
       "</style>\n",
       "<table border=\"1\" class=\"dataframe\">\n",
       "  <thead>\n",
       "    <tr style=\"text-align: right;\">\n",
       "      <th></th>\n",
       "      <th>battery_power</th>\n",
       "      <th>blue</th>\n",
       "      <th>clock_speed</th>\n",
       "      <th>dual_sim</th>\n",
       "      <th>fc</th>\n",
       "      <th>four_g</th>\n",
       "      <th>int_memory</th>\n",
       "      <th>m_dep</th>\n",
       "      <th>mobile_wt</th>\n",
       "      <th>n_cores</th>\n",
       "      <th>...</th>\n",
       "      <th>px_height</th>\n",
       "      <th>px_width</th>\n",
       "      <th>ram</th>\n",
       "      <th>sc_h</th>\n",
       "      <th>sc_w</th>\n",
       "      <th>talk_time</th>\n",
       "      <th>three_g</th>\n",
       "      <th>touch_screen</th>\n",
       "      <th>wifi</th>\n",
       "      <th>price_range</th>\n",
       "    </tr>\n",
       "  </thead>\n",
       "  <tbody>\n",
       "  </tbody>\n",
       "</table>\n",
       "<p>0 rows × 21 columns</p>\n",
       "</div>"
      ],
      "text/plain": [
       "Empty DataFrame\n",
       "Columns: [battery_power, blue, clock_speed, dual_sim, fc, four_g, int_memory, m_dep, mobile_wt, n_cores, pc, px_height, px_width, ram, sc_h, sc_w, talk_time, three_g, touch_screen, wifi, price_range]\n",
       "Index: []\n",
       "\n",
       "[0 rows x 21 columns]"
      ]
     },
     "execution_count": 136,
     "metadata": {},
     "output_type": "execute_result"
    }
   ],
   "source": [
    "#Mengecek outlier kolom clock_speed\n",
    "q1 = df[\"clock_speed\"].quantile(0.25)\n",
    "q3 = df[\"clock_speed\"].quantile(0.75)\n",
    "\n",
    "iqr = q3-q1 #Interquartile range\n",
    "fence_low  = q1-1.5*iqr\n",
    "fence_high = q3+1.5*iqr\n",
    "\n",
    "df.loc[(df[\"clock_speed\"] < fence_low) | (df[\"clock_speed\"] > fence_high)]"
   ]
  },
  {
   "cell_type": "code",
   "execution_count": 137,
   "id": "42730808",
   "metadata": {},
   "outputs": [
    {
     "data": {
      "text/html": [
       "<div>\n",
       "<style scoped>\n",
       "    .dataframe tbody tr th:only-of-type {\n",
       "        vertical-align: middle;\n",
       "    }\n",
       "\n",
       "    .dataframe tbody tr th {\n",
       "        vertical-align: top;\n",
       "    }\n",
       "\n",
       "    .dataframe thead th {\n",
       "        text-align: right;\n",
       "    }\n",
       "</style>\n",
       "<table border=\"1\" class=\"dataframe\">\n",
       "  <thead>\n",
       "    <tr style=\"text-align: right;\">\n",
       "      <th></th>\n",
       "      <th>battery_power</th>\n",
       "      <th>blue</th>\n",
       "      <th>clock_speed</th>\n",
       "      <th>dual_sim</th>\n",
       "      <th>fc</th>\n",
       "      <th>four_g</th>\n",
       "      <th>int_memory</th>\n",
       "      <th>m_dep</th>\n",
       "      <th>mobile_wt</th>\n",
       "      <th>n_cores</th>\n",
       "      <th>...</th>\n",
       "      <th>px_height</th>\n",
       "      <th>px_width</th>\n",
       "      <th>ram</th>\n",
       "      <th>sc_h</th>\n",
       "      <th>sc_w</th>\n",
       "      <th>talk_time</th>\n",
       "      <th>three_g</th>\n",
       "      <th>touch_screen</th>\n",
       "      <th>wifi</th>\n",
       "      <th>price_range</th>\n",
       "    </tr>\n",
       "  </thead>\n",
       "  <tbody>\n",
       "  </tbody>\n",
       "</table>\n",
       "<p>0 rows × 21 columns</p>\n",
       "</div>"
      ],
      "text/plain": [
       "Empty DataFrame\n",
       "Columns: [battery_power, blue, clock_speed, dual_sim, fc, four_g, int_memory, m_dep, mobile_wt, n_cores, pc, px_height, px_width, ram, sc_h, sc_w, talk_time, three_g, touch_screen, wifi, price_range]\n",
       "Index: []\n",
       "\n",
       "[0 rows x 21 columns]"
      ]
     },
     "execution_count": 137,
     "metadata": {},
     "output_type": "execute_result"
    }
   ],
   "source": [
    "#Mengecek outlier kolom int_memory\n",
    "q1 = df[\"int_memory\"].quantile(0.25)\n",
    "q3 = df[\"int_memory\"].quantile(0.75)\n",
    "\n",
    "iqr = q3-q1 #Interquartile range\n",
    "fence_low  = q1-1.5*iqr\n",
    "fence_high = q3+1.5*iqr\n",
    "\n",
    "df.loc[(df[\"int_memory\"] < fence_low) | (df[\"int_memory\"] > fence_high)] "
   ]
  },
  {
   "cell_type": "code",
   "execution_count": 138,
   "id": "6175f28d",
   "metadata": {},
   "outputs": [
    {
     "data": {
      "text/html": [
       "<div>\n",
       "<style scoped>\n",
       "    .dataframe tbody tr th:only-of-type {\n",
       "        vertical-align: middle;\n",
       "    }\n",
       "\n",
       "    .dataframe tbody tr th {\n",
       "        vertical-align: top;\n",
       "    }\n",
       "\n",
       "    .dataframe thead th {\n",
       "        text-align: right;\n",
       "    }\n",
       "</style>\n",
       "<table border=\"1\" class=\"dataframe\">\n",
       "  <thead>\n",
       "    <tr style=\"text-align: right;\">\n",
       "      <th></th>\n",
       "      <th>battery_power</th>\n",
       "      <th>blue</th>\n",
       "      <th>clock_speed</th>\n",
       "      <th>dual_sim</th>\n",
       "      <th>fc</th>\n",
       "      <th>four_g</th>\n",
       "      <th>int_memory</th>\n",
       "      <th>m_dep</th>\n",
       "      <th>mobile_wt</th>\n",
       "      <th>n_cores</th>\n",
       "      <th>...</th>\n",
       "      <th>px_height</th>\n",
       "      <th>px_width</th>\n",
       "      <th>ram</th>\n",
       "      <th>sc_h</th>\n",
       "      <th>sc_w</th>\n",
       "      <th>talk_time</th>\n",
       "      <th>three_g</th>\n",
       "      <th>touch_screen</th>\n",
       "      <th>wifi</th>\n",
       "      <th>price_range</th>\n",
       "    </tr>\n",
       "  </thead>\n",
       "  <tbody>\n",
       "  </tbody>\n",
       "</table>\n",
       "<p>0 rows × 21 columns</p>\n",
       "</div>"
      ],
      "text/plain": [
       "Empty DataFrame\n",
       "Columns: [battery_power, blue, clock_speed, dual_sim, fc, four_g, int_memory, m_dep, mobile_wt, n_cores, pc, px_height, px_width, ram, sc_h, sc_w, talk_time, three_g, touch_screen, wifi, price_range]\n",
       "Index: []\n",
       "\n",
       "[0 rows x 21 columns]"
      ]
     },
     "execution_count": 138,
     "metadata": {},
     "output_type": "execute_result"
    }
   ],
   "source": [
    "#Mengecek outlier kolom m_dep\n",
    "q1 = df[\"m_dep\"].quantile(0.25)\n",
    "q3 = df[\"m_dep\"].quantile(0.75)\n",
    "\n",
    "iqr = q3-q1 #Interquartile range\n",
    "fence_low  = q1-1.5*iqr\n",
    "fence_high = q3+1.5*iqr\n",
    "\n",
    "df.loc[(df[\"m_dep\"] < fence_low) | (df[\"m_dep\"] > fence_high)] "
   ]
  },
  {
   "cell_type": "code",
   "execution_count": 139,
   "id": "fb3b95dc",
   "metadata": {},
   "outputs": [
    {
     "data": {
      "text/html": [
       "<div>\n",
       "<style scoped>\n",
       "    .dataframe tbody tr th:only-of-type {\n",
       "        vertical-align: middle;\n",
       "    }\n",
       "\n",
       "    .dataframe tbody tr th {\n",
       "        vertical-align: top;\n",
       "    }\n",
       "\n",
       "    .dataframe thead th {\n",
       "        text-align: right;\n",
       "    }\n",
       "</style>\n",
       "<table border=\"1\" class=\"dataframe\">\n",
       "  <thead>\n",
       "    <tr style=\"text-align: right;\">\n",
       "      <th></th>\n",
       "      <th>battery_power</th>\n",
       "      <th>blue</th>\n",
       "      <th>clock_speed</th>\n",
       "      <th>dual_sim</th>\n",
       "      <th>fc</th>\n",
       "      <th>four_g</th>\n",
       "      <th>int_memory</th>\n",
       "      <th>m_dep</th>\n",
       "      <th>mobile_wt</th>\n",
       "      <th>n_cores</th>\n",
       "      <th>...</th>\n",
       "      <th>px_height</th>\n",
       "      <th>px_width</th>\n",
       "      <th>ram</th>\n",
       "      <th>sc_h</th>\n",
       "      <th>sc_w</th>\n",
       "      <th>talk_time</th>\n",
       "      <th>three_g</th>\n",
       "      <th>touch_screen</th>\n",
       "      <th>wifi</th>\n",
       "      <th>price_range</th>\n",
       "    </tr>\n",
       "  </thead>\n",
       "  <tbody>\n",
       "  </tbody>\n",
       "</table>\n",
       "<p>0 rows × 21 columns</p>\n",
       "</div>"
      ],
      "text/plain": [
       "Empty DataFrame\n",
       "Columns: [battery_power, blue, clock_speed, dual_sim, fc, four_g, int_memory, m_dep, mobile_wt, n_cores, pc, px_height, px_width, ram, sc_h, sc_w, talk_time, three_g, touch_screen, wifi, price_range]\n",
       "Index: []\n",
       "\n",
       "[0 rows x 21 columns]"
      ]
     },
     "execution_count": 139,
     "metadata": {},
     "output_type": "execute_result"
    }
   ],
   "source": [
    "#Mengecek outlier kolom mobile_wt\n",
    "q1 = df[\"mobile_wt\"].quantile(0.25)\n",
    "q3 = df[\"mobile_wt\"].quantile(0.75)\n",
    "\n",
    "iqr = q3-q1 #Interquartile range\n",
    "fence_low  = q1-1.5*iqr\n",
    "fence_high = q3+1.5*iqr\n",
    "\n",
    "df.loc[(df[\"mobile_wt\"] < fence_low) | (df[\"mobile_wt\"] > fence_high)] "
   ]
  },
  {
   "cell_type": "code",
   "execution_count": 140,
   "id": "fdfafa5f",
   "metadata": {},
   "outputs": [
    {
     "data": {
      "text/html": [
       "<div>\n",
       "<style scoped>\n",
       "    .dataframe tbody tr th:only-of-type {\n",
       "        vertical-align: middle;\n",
       "    }\n",
       "\n",
       "    .dataframe tbody tr th {\n",
       "        vertical-align: top;\n",
       "    }\n",
       "\n",
       "    .dataframe thead th {\n",
       "        text-align: right;\n",
       "    }\n",
       "</style>\n",
       "<table border=\"1\" class=\"dataframe\">\n",
       "  <thead>\n",
       "    <tr style=\"text-align: right;\">\n",
       "      <th></th>\n",
       "      <th>battery_power</th>\n",
       "      <th>blue</th>\n",
       "      <th>clock_speed</th>\n",
       "      <th>dual_sim</th>\n",
       "      <th>fc</th>\n",
       "      <th>four_g</th>\n",
       "      <th>int_memory</th>\n",
       "      <th>m_dep</th>\n",
       "      <th>mobile_wt</th>\n",
       "      <th>n_cores</th>\n",
       "      <th>...</th>\n",
       "      <th>px_height</th>\n",
       "      <th>px_width</th>\n",
       "      <th>ram</th>\n",
       "      <th>sc_h</th>\n",
       "      <th>sc_w</th>\n",
       "      <th>talk_time</th>\n",
       "      <th>three_g</th>\n",
       "      <th>touch_screen</th>\n",
       "      <th>wifi</th>\n",
       "      <th>price_range</th>\n",
       "    </tr>\n",
       "  </thead>\n",
       "  <tbody>\n",
       "  </tbody>\n",
       "</table>\n",
       "<p>0 rows × 21 columns</p>\n",
       "</div>"
      ],
      "text/plain": [
       "Empty DataFrame\n",
       "Columns: [battery_power, blue, clock_speed, dual_sim, fc, four_g, int_memory, m_dep, mobile_wt, n_cores, pc, px_height, px_width, ram, sc_h, sc_w, talk_time, three_g, touch_screen, wifi, price_range]\n",
       "Index: []\n",
       "\n",
       "[0 rows x 21 columns]"
      ]
     },
     "execution_count": 140,
     "metadata": {},
     "output_type": "execute_result"
    }
   ],
   "source": [
    "#Mengecek outlier kolom n_cores\n",
    "q1 = df[\"n_cores\"].quantile(0.25)\n",
    "q3 = df[\"n_cores\"].quantile(0.75)\n",
    "\n",
    "iqr = q3-q1 #Interquartile range\n",
    "fence_low  = q1-1.5*iqr\n",
    "fence_high = q3+1.5*iqr\n",
    "\n",
    "df.loc[(df[\"n_cores\"] < fence_low) | (df[\"n_cores\"] > fence_high)] "
   ]
  },
  {
   "cell_type": "code",
   "execution_count": 141,
   "id": "1cfccae4",
   "metadata": {},
   "outputs": [
    {
     "data": {
      "text/html": [
       "<div>\n",
       "<style scoped>\n",
       "    .dataframe tbody tr th:only-of-type {\n",
       "        vertical-align: middle;\n",
       "    }\n",
       "\n",
       "    .dataframe tbody tr th {\n",
       "        vertical-align: top;\n",
       "    }\n",
       "\n",
       "    .dataframe thead th {\n",
       "        text-align: right;\n",
       "    }\n",
       "</style>\n",
       "<table border=\"1\" class=\"dataframe\">\n",
       "  <thead>\n",
       "    <tr style=\"text-align: right;\">\n",
       "      <th></th>\n",
       "      <th>battery_power</th>\n",
       "      <th>blue</th>\n",
       "      <th>clock_speed</th>\n",
       "      <th>dual_sim</th>\n",
       "      <th>fc</th>\n",
       "      <th>four_g</th>\n",
       "      <th>int_memory</th>\n",
       "      <th>m_dep</th>\n",
       "      <th>mobile_wt</th>\n",
       "      <th>n_cores</th>\n",
       "      <th>...</th>\n",
       "      <th>px_height</th>\n",
       "      <th>px_width</th>\n",
       "      <th>ram</th>\n",
       "      <th>sc_h</th>\n",
       "      <th>sc_w</th>\n",
       "      <th>talk_time</th>\n",
       "      <th>three_g</th>\n",
       "      <th>touch_screen</th>\n",
       "      <th>wifi</th>\n",
       "      <th>price_range</th>\n",
       "    </tr>\n",
       "  </thead>\n",
       "  <tbody>\n",
       "  </tbody>\n",
       "</table>\n",
       "<p>0 rows × 21 columns</p>\n",
       "</div>"
      ],
      "text/plain": [
       "Empty DataFrame\n",
       "Columns: [battery_power, blue, clock_speed, dual_sim, fc, four_g, int_memory, m_dep, mobile_wt, n_cores, pc, px_height, px_width, ram, sc_h, sc_w, talk_time, three_g, touch_screen, wifi, price_range]\n",
       "Index: []\n",
       "\n",
       "[0 rows x 21 columns]"
      ]
     },
     "execution_count": 141,
     "metadata": {},
     "output_type": "execute_result"
    }
   ],
   "source": [
    "#Mengecek outlier kolom pc\n",
    "q1 = df[\"pc\"].quantile(0.25)\n",
    "q3 = df[\"pc\"].quantile(0.75)\n",
    "\n",
    "iqr = q3-q1 #Interquartile range\n",
    "fence_low  = q1-1.5*iqr\n",
    "fence_high = q3+1.5*iqr\n",
    "\n",
    "df.loc[(df[\"pc\"] < fence_low) | (df[\"pc\"] > fence_high)] "
   ]
  },
  {
   "cell_type": "code",
   "execution_count": 142,
   "id": "cbf5f0be",
   "metadata": {},
   "outputs": [
    {
     "data": {
      "text/html": [
       "<div>\n",
       "<style scoped>\n",
       "    .dataframe tbody tr th:only-of-type {\n",
       "        vertical-align: middle;\n",
       "    }\n",
       "\n",
       "    .dataframe tbody tr th {\n",
       "        vertical-align: top;\n",
       "    }\n",
       "\n",
       "    .dataframe thead th {\n",
       "        text-align: right;\n",
       "    }\n",
       "</style>\n",
       "<table border=\"1\" class=\"dataframe\">\n",
       "  <thead>\n",
       "    <tr style=\"text-align: right;\">\n",
       "      <th></th>\n",
       "      <th>battery_power</th>\n",
       "      <th>blue</th>\n",
       "      <th>clock_speed</th>\n",
       "      <th>dual_sim</th>\n",
       "      <th>fc</th>\n",
       "      <th>four_g</th>\n",
       "      <th>int_memory</th>\n",
       "      <th>m_dep</th>\n",
       "      <th>mobile_wt</th>\n",
       "      <th>n_cores</th>\n",
       "      <th>...</th>\n",
       "      <th>px_height</th>\n",
       "      <th>px_width</th>\n",
       "      <th>ram</th>\n",
       "      <th>sc_h</th>\n",
       "      <th>sc_w</th>\n",
       "      <th>talk_time</th>\n",
       "      <th>three_g</th>\n",
       "      <th>touch_screen</th>\n",
       "      <th>wifi</th>\n",
       "      <th>price_range</th>\n",
       "    </tr>\n",
       "  </thead>\n",
       "  <tbody>\n",
       "  </tbody>\n",
       "</table>\n",
       "<p>0 rows × 21 columns</p>\n",
       "</div>"
      ],
      "text/plain": [
       "Empty DataFrame\n",
       "Columns: [battery_power, blue, clock_speed, dual_sim, fc, four_g, int_memory, m_dep, mobile_wt, n_cores, pc, px_height, px_width, ram, sc_h, sc_w, talk_time, three_g, touch_screen, wifi, price_range]\n",
       "Index: []\n",
       "\n",
       "[0 rows x 21 columns]"
      ]
     },
     "execution_count": 142,
     "metadata": {},
     "output_type": "execute_result"
    }
   ],
   "source": [
    "#Mengecek outlier kolom px_width\n",
    "q1 = df[\"px_width\"].quantile(0.25)\n",
    "q3 = df[\"px_width\"].quantile(0.75)\n",
    "\n",
    "iqr = q3-q1 #Interquartile range\n",
    "fence_low  = q1-1.5*iqr\n",
    "fence_high = q3+1.5*iqr\n",
    "\n",
    "df.loc[(df[\"px_width\"] < fence_low) | (df[\"px_width\"] > fence_high)] "
   ]
  },
  {
   "cell_type": "code",
   "execution_count": 143,
   "id": "3a1e7d9e",
   "metadata": {},
   "outputs": [
    {
     "data": {
      "text/html": [
       "<div>\n",
       "<style scoped>\n",
       "    .dataframe tbody tr th:only-of-type {\n",
       "        vertical-align: middle;\n",
       "    }\n",
       "\n",
       "    .dataframe tbody tr th {\n",
       "        vertical-align: top;\n",
       "    }\n",
       "\n",
       "    .dataframe thead th {\n",
       "        text-align: right;\n",
       "    }\n",
       "</style>\n",
       "<table border=\"1\" class=\"dataframe\">\n",
       "  <thead>\n",
       "    <tr style=\"text-align: right;\">\n",
       "      <th></th>\n",
       "      <th>battery_power</th>\n",
       "      <th>blue</th>\n",
       "      <th>clock_speed</th>\n",
       "      <th>dual_sim</th>\n",
       "      <th>fc</th>\n",
       "      <th>four_g</th>\n",
       "      <th>int_memory</th>\n",
       "      <th>m_dep</th>\n",
       "      <th>mobile_wt</th>\n",
       "      <th>n_cores</th>\n",
       "      <th>...</th>\n",
       "      <th>px_height</th>\n",
       "      <th>px_width</th>\n",
       "      <th>ram</th>\n",
       "      <th>sc_h</th>\n",
       "      <th>sc_w</th>\n",
       "      <th>talk_time</th>\n",
       "      <th>three_g</th>\n",
       "      <th>touch_screen</th>\n",
       "      <th>wifi</th>\n",
       "      <th>price_range</th>\n",
       "    </tr>\n",
       "  </thead>\n",
       "  <tbody>\n",
       "  </tbody>\n",
       "</table>\n",
       "<p>0 rows × 21 columns</p>\n",
       "</div>"
      ],
      "text/plain": [
       "Empty DataFrame\n",
       "Columns: [battery_power, blue, clock_speed, dual_sim, fc, four_g, int_memory, m_dep, mobile_wt, n_cores, pc, px_height, px_width, ram, sc_h, sc_w, talk_time, three_g, touch_screen, wifi, price_range]\n",
       "Index: []\n",
       "\n",
       "[0 rows x 21 columns]"
      ]
     },
     "execution_count": 143,
     "metadata": {},
     "output_type": "execute_result"
    }
   ],
   "source": [
    "#Mengecek outlier kolom ram\n",
    "q1 = df[\"ram\"].quantile(0.25)\n",
    "q3 = df[\"ram\"].quantile(0.75)\n",
    "\n",
    "iqr = q3-q1 #Interquartile range\n",
    "fence_low  = q1-1.5*iqr\n",
    "fence_high = q3+1.5*iqr\n",
    "\n",
    "df.loc[(df[\"ram\"] < fence_low) | (df[\"ram\"] > fence_high)] "
   ]
  },
  {
   "cell_type": "code",
   "execution_count": 144,
   "id": "2158fdd8",
   "metadata": {},
   "outputs": [
    {
     "data": {
      "text/html": [
       "<div>\n",
       "<style scoped>\n",
       "    .dataframe tbody tr th:only-of-type {\n",
       "        vertical-align: middle;\n",
       "    }\n",
       "\n",
       "    .dataframe tbody tr th {\n",
       "        vertical-align: top;\n",
       "    }\n",
       "\n",
       "    .dataframe thead th {\n",
       "        text-align: right;\n",
       "    }\n",
       "</style>\n",
       "<table border=\"1\" class=\"dataframe\">\n",
       "  <thead>\n",
       "    <tr style=\"text-align: right;\">\n",
       "      <th></th>\n",
       "      <th>battery_power</th>\n",
       "      <th>blue</th>\n",
       "      <th>clock_speed</th>\n",
       "      <th>dual_sim</th>\n",
       "      <th>fc</th>\n",
       "      <th>four_g</th>\n",
       "      <th>int_memory</th>\n",
       "      <th>m_dep</th>\n",
       "      <th>mobile_wt</th>\n",
       "      <th>n_cores</th>\n",
       "      <th>...</th>\n",
       "      <th>px_height</th>\n",
       "      <th>px_width</th>\n",
       "      <th>ram</th>\n",
       "      <th>sc_h</th>\n",
       "      <th>sc_w</th>\n",
       "      <th>talk_time</th>\n",
       "      <th>three_g</th>\n",
       "      <th>touch_screen</th>\n",
       "      <th>wifi</th>\n",
       "      <th>price_range</th>\n",
       "    </tr>\n",
       "  </thead>\n",
       "  <tbody>\n",
       "  </tbody>\n",
       "</table>\n",
       "<p>0 rows × 21 columns</p>\n",
       "</div>"
      ],
      "text/plain": [
       "Empty DataFrame\n",
       "Columns: [battery_power, blue, clock_speed, dual_sim, fc, four_g, int_memory, m_dep, mobile_wt, n_cores, pc, px_height, px_width, ram, sc_h, sc_w, talk_time, three_g, touch_screen, wifi, price_range]\n",
       "Index: []\n",
       "\n",
       "[0 rows x 21 columns]"
      ]
     },
     "execution_count": 144,
     "metadata": {},
     "output_type": "execute_result"
    }
   ],
   "source": [
    "#Mengecek outlier kolom sc_h\n",
    "q1 = df[\"sc_h\"].quantile(0.25)\n",
    "q3 = df[\"sc_h\"].quantile(0.75)\n",
    "\n",
    "iqr = q3-q1 #Interquartile range\n",
    "fence_low  = q1-1.5*iqr\n",
    "fence_high = q3+1.5*iqr\n",
    "\n",
    "df.loc[(df[\"sc_h\"] < fence_low) | (df[\"sc_h\"] > fence_high)] "
   ]
  },
  {
   "cell_type": "code",
   "execution_count": 145,
   "id": "ce5a9311",
   "metadata": {},
   "outputs": [
    {
     "data": {
      "text/html": [
       "<div>\n",
       "<style scoped>\n",
       "    .dataframe tbody tr th:only-of-type {\n",
       "        vertical-align: middle;\n",
       "    }\n",
       "\n",
       "    .dataframe tbody tr th {\n",
       "        vertical-align: top;\n",
       "    }\n",
       "\n",
       "    .dataframe thead th {\n",
       "        text-align: right;\n",
       "    }\n",
       "</style>\n",
       "<table border=\"1\" class=\"dataframe\">\n",
       "  <thead>\n",
       "    <tr style=\"text-align: right;\">\n",
       "      <th></th>\n",
       "      <th>battery_power</th>\n",
       "      <th>blue</th>\n",
       "      <th>clock_speed</th>\n",
       "      <th>dual_sim</th>\n",
       "      <th>fc</th>\n",
       "      <th>four_g</th>\n",
       "      <th>int_memory</th>\n",
       "      <th>m_dep</th>\n",
       "      <th>mobile_wt</th>\n",
       "      <th>n_cores</th>\n",
       "      <th>...</th>\n",
       "      <th>px_height</th>\n",
       "      <th>px_width</th>\n",
       "      <th>ram</th>\n",
       "      <th>sc_h</th>\n",
       "      <th>sc_w</th>\n",
       "      <th>talk_time</th>\n",
       "      <th>three_g</th>\n",
       "      <th>touch_screen</th>\n",
       "      <th>wifi</th>\n",
       "      <th>price_range</th>\n",
       "    </tr>\n",
       "  </thead>\n",
       "  <tbody>\n",
       "  </tbody>\n",
       "</table>\n",
       "<p>0 rows × 21 columns</p>\n",
       "</div>"
      ],
      "text/plain": [
       "Empty DataFrame\n",
       "Columns: [battery_power, blue, clock_speed, dual_sim, fc, four_g, int_memory, m_dep, mobile_wt, n_cores, pc, px_height, px_width, ram, sc_h, sc_w, talk_time, three_g, touch_screen, wifi, price_range]\n",
       "Index: []\n",
       "\n",
       "[0 rows x 21 columns]"
      ]
     },
     "execution_count": 145,
     "metadata": {},
     "output_type": "execute_result"
    }
   ],
   "source": [
    "#Mengecek outlier kolom sc_w\n",
    "q1 = df[\"sc_w\"].quantile(0.25)\n",
    "q3 = df[\"sc_w\"].quantile(0.75)\n",
    "\n",
    "iqr = q3-q1 #Interquartile range\n",
    "fence_low  = q1-1.5*iqr\n",
    "fence_high = q3+1.5*iqr\n",
    "\n",
    "df.loc[(df[\"sc_w\"] < fence_low) | (df[\"sc_w\"] > fence_high)] "
   ]
  },
  {
   "cell_type": "code",
   "execution_count": 146,
   "id": "0f17f669",
   "metadata": {
    "scrolled": true
   },
   "outputs": [
    {
     "data": {
      "text/html": [
       "<div>\n",
       "<style scoped>\n",
       "    .dataframe tbody tr th:only-of-type {\n",
       "        vertical-align: middle;\n",
       "    }\n",
       "\n",
       "    .dataframe tbody tr th {\n",
       "        vertical-align: top;\n",
       "    }\n",
       "\n",
       "    .dataframe thead th {\n",
       "        text-align: right;\n",
       "    }\n",
       "</style>\n",
       "<table border=\"1\" class=\"dataframe\">\n",
       "  <thead>\n",
       "    <tr style=\"text-align: right;\">\n",
       "      <th></th>\n",
       "      <th>battery_power</th>\n",
       "      <th>blue</th>\n",
       "      <th>clock_speed</th>\n",
       "      <th>dual_sim</th>\n",
       "      <th>fc</th>\n",
       "      <th>four_g</th>\n",
       "      <th>int_memory</th>\n",
       "      <th>m_dep</th>\n",
       "      <th>mobile_wt</th>\n",
       "      <th>n_cores</th>\n",
       "      <th>...</th>\n",
       "      <th>px_height</th>\n",
       "      <th>px_width</th>\n",
       "      <th>ram</th>\n",
       "      <th>sc_h</th>\n",
       "      <th>sc_w</th>\n",
       "      <th>talk_time</th>\n",
       "      <th>three_g</th>\n",
       "      <th>touch_screen</th>\n",
       "      <th>wifi</th>\n",
       "      <th>price_range</th>\n",
       "    </tr>\n",
       "  </thead>\n",
       "  <tbody>\n",
       "  </tbody>\n",
       "</table>\n",
       "<p>0 rows × 21 columns</p>\n",
       "</div>"
      ],
      "text/plain": [
       "Empty DataFrame\n",
       "Columns: [battery_power, blue, clock_speed, dual_sim, fc, four_g, int_memory, m_dep, mobile_wt, n_cores, pc, px_height, px_width, ram, sc_h, sc_w, talk_time, three_g, touch_screen, wifi, price_range]\n",
       "Index: []\n",
       "\n",
       "[0 rows x 21 columns]"
      ]
     },
     "execution_count": 146,
     "metadata": {},
     "output_type": "execute_result"
    }
   ],
   "source": [
    "#Mengecek outlier kolom talk_time\n",
    "q1 = df[\"talk_time\"].quantile(0.25)\n",
    "q3 = df[\"talk_time\"].quantile(0.75)\n",
    "\n",
    "iqr = q3-q1 #Interquartile range\n",
    "fence_low  = q1-1.5*iqr\n",
    "fence_high = q3+1.5*iqr\n",
    "\n",
    "df.loc[(df[\"talk_time\"] < fence_low) | (df[\"talk_time\"] > fence_high)] "
   ]
  },
  {
   "cell_type": "code",
   "execution_count": 147,
   "id": "9b85255d",
   "metadata": {},
   "outputs": [
    {
     "data": {
      "text/plain": [
       "0"
      ]
     },
     "execution_count": 147,
     "metadata": {},
     "output_type": "execute_result"
    }
   ],
   "source": [
    "#Mengecek apakah ada data yang duplikat\n",
    "df.duplicated().sum()"
   ]
  },
  {
   "cell_type": "code",
   "execution_count": 148,
   "id": "6ceece63",
   "metadata": {
    "scrolled": false
   },
   "outputs": [
    {
     "data": {
      "image/png": "[encoded data removed]",
      "text/plain": [
       "<Figure size 720x1440 with 6 Axes>"
      ]
     },
     "metadata": {
      "needs_background": "light"
     },
     "output_type": "display_data"
    }
   ],
   "source": [
    "#Analysis to check Outlier in Numeric Features\n",
    "i = 1\n",
    "plt.figure(figsize=(10,20))\n",
    "for feature in numeric_features:\n",
    "    plt.subplot(6,2,i)\n",
    "    sns.set_palette(\"deep\")\n",
    "    sns.boxplot(x='price_range' , y=feature, data=df, palette=[\"#ece7f2\", \"#a6bddb\", \"#2b8cbe\", \"#1c9099\"])\n",
    "    i+=1"
   ]
  },
  {
   "cell_type": "code",
   "execution_count": 149,
   "id": "955ef5f9",
   "metadata": {},
   "outputs": [
    {
     "data": {
      "image/png": "[encoded data removed]",
      "text/plain": [
       "<Figure size 1440x1800 with 15 Axes>"
      ]
     },
     "metadata": {
      "needs_background": "light"
     },
     "output_type": "display_data"
    }
   ],
   "source": [
    "# Analysis to check outlier in categorical values\n",
    "i = 1\n",
    "plt.figure(figsize = (20,25))\n",
    "for feature in categorical_features:\n",
    "    plt.subplot(6,3,i)\n",
    "    sns.set_palette(\"deep\")\n",
    "    sns.countplot(x = feature, data = df,hue='price_range', palette=[\"#ffeda0\", \"#5ab4ac\", \"#d8b365\", \"#7fcdbb\"])\n",
    "    i +=1"
   ]
  },
  {
   "cell_type": "markdown",
   "id": "00d7567d",
   "metadata": {},
   "source": [
    "#### Data Visualization"
   ]
  },
  {
   "cell_type": "code",
   "execution_count": 150,
   "id": "4abe87f7",
   "metadata": {},
   "outputs": [
    {
     "data": {
      "image/png": "[encoded data removed]",
      "text/plain": [
       "<Figure size 432x288 with 1 Axes>"
      ]
     },
     "metadata": {
      "needs_background": "light"
     },
     "output_type": "display_data"
    }
   ],
   "source": [
    "ax = sns.histplot(data = df, x='battery_power') #membuat plot histogram battery_power sepanjang sumbu x\n",
    "plt.show() #menampilkan visualisasi"
   ]
  },
  {
   "cell_type": "code",
   "execution_count": 151,
   "id": "76d5a828",
   "metadata": {},
   "outputs": [
    {
     "data": {
      "image/png": "[encoded data removed]",
      "text/plain": [
       "<Figure size 432x288 with 1 Axes>"
      ]
     },
     "metadata": {
      "needs_background": "light"
     },
     "output_type": "display_data"
    }
   ],
   "source": [
    "ax = sns.histplot(data = df, x='blue') #membuat plot histogram blue sepanjang sumbu x\n",
    "plt.show() #menampilkan visualisasi"
   ]
  },
  {
   "cell_type": "code",
   "execution_count": 152,
   "id": "75303eef",
   "metadata": {},
   "outputs": [
    {
     "data": {
      "image/png": "[encoded data removed]",
      "text/plain": [
       "<Figure size 432x288 with 1 Axes>"
      ]
     },
     "metadata": {
      "needs_background": "light"
     },
     "output_type": "display_data"
    }
   ],
   "source": [
    "ax = sns.histplot(data = df, x='clock_speed') #membuat plot histogram clock_speed sepanjang sumbu x\n",
    "plt.show() #menampilkan visualisasi"
   ]
  },
  {
   "cell_type": "code",
   "execution_count": 153,
   "id": "6a8f3d80",
   "metadata": {},
   "outputs": [
    {
     "data": {
      "image/png": "[encoded data removed]",
      "text/plain": [
       "<Figure size 432x288 with 1 Axes>"
      ]
     },
     "metadata": {
      "needs_background": "light"
     },
     "output_type": "display_data"
    }
   ],
   "source": [
    "ax = sns.histplot(data = df, x='dual_sim') #membuat plot histogram dual_sim sepanjang sumbu x\n",
    "plt.show() #menampilkan visualisasi"
   ]
  },
  {
   "cell_type": "code",
   "execution_count": 154,
   "id": "d8f6d8a3",
   "metadata": {},
   "outputs": [
    {
     "data": {
      "image/png": "[encoded data removed]",
      "text/plain": [
       "<Figure size 432x288 with 1 Axes>"
      ]
     },
     "metadata": {
      "needs_background": "light"
     },
     "output_type": "display_data"
    }
   ],
   "source": [
    "ax = sns.histplot(data = df, x='fc') #membuat plot histogram fc sepanjang sumbu x\n",
    "plt.show() #menampilkan visualisasi"
   ]
  },
  {
   "cell_type": "code",
   "execution_count": 155,
   "id": "3339324c",
   "metadata": {},
   "outputs": [
    {
     "data": {
      "image/png": "[encoded data removed]",
      "text/plain": [
       "<Figure size 432x288 with 1 Axes>"
      ]
     },
     "metadata": {
      "needs_background": "light"
     },
     "output_type": "display_data"
    }
   ],
   "source": [
    "ax = sns.histplot(data = df, x='four_g') #membuat plot histogram four_g sepanjang sumbu x\n",
    "plt.show() #menampilkan visualisasi"
   ]
  },
  {
   "cell_type": "code",
   "execution_count": 156,
   "id": "cfb82262",
   "metadata": {},
   "outputs": [
    {
     "data": {
      "image/png": "[encoded data removed]",
      "text/plain": [
       "<Figure size 432x288 with 1 Axes>"
      ]
     },
     "metadata": {
      "needs_background": "light"
     },
     "output_type": "display_data"
    }
   ],
   "source": [
    "ax = sns.histplot(data = df, x='int_memory') #membuat plot histogram int_memory sepanjang sumbu x\n",
    "plt.show() #menampilkan visualisasi"
   ]
  },
  {
   "cell_type": "code",
   "execution_count": 157,
   "id": "f2377f08",
   "metadata": {},
   "outputs": [
    {
     "data": {
      "image/png": "[encoded data removed]",
      "text/plain": [
       "<Figure size 432x288 with 1 Axes>"
      ]
     },
     "metadata": {
      "needs_background": "light"
     },
     "output_type": "display_data"
    }
   ],
   "source": [
    "ax = sns.histplot(data = df, x='m_dep') #membuat plot histogram m_dep sepanjang sumbu x\n",
    "plt.show() #menampilkan visualisasi"
   ]
  },
  {
   "cell_type": "code",
   "execution_count": 158,
   "id": "d52ccf26",
   "metadata": {},
   "outputs": [
    {
     "data": {
      "image/png": "[encoded data removed]",
      "text/plain": [
       "<Figure size 432x288 with 1 Axes>"
      ]
     },
     "metadata": {
      "needs_background": "light"
     },
     "output_type": "display_data"
    }
   ],
   "source": [
    "ax = sns.histplot(data = df, x='mobile_wt') #membuat plot histogram mobile_wt sepanjang sumbu x\n",
    "plt.show() #menampilkan visualisasi"
   ]
  },
  {
   "cell_type": "code",
   "execution_count": 159,
   "id": "34cd164b",
   "metadata": {},
   "outputs": [
    {
     "data": {
      "image/png": "[encoded data removed]",
      "text/plain": [
       "<Figure size 432x288 with 1 Axes>"
      ]
     },
     "metadata": {
      "needs_background": "light"
     },
     "output_type": "display_data"
    }
   ],
   "source": [
    "ax = sns.histplot(data = df, x='n_cores') #membuat plot histogram n_cores sepanjang sumbu x\n",
    "plt.show() #menampilkan visualisasi"
   ]
  },
  {
   "cell_type": "code",
   "execution_count": 160,
   "id": "931d88ae",
   "metadata": {},
   "outputs": [
    {
     "data": {
      "image/png": "[encoded data removed]",
      "text/plain": [
       "<Figure size 432x288 with 1 Axes>"
      ]
     },
     "metadata": {
      "needs_background": "light"
     },
     "output_type": "display_data"
    }
   ],
   "source": [
    "ax = sns.histplot(data = df, x='pc') #membuat plot histogram pc sepanjang sumbu x\n",
    "plt.show() #menampilkan visualisasi"
   ]
  },
  {
   "cell_type": "code",
   "execution_count": 161,
   "id": "a82848e5",
   "metadata": {},
   "outputs": [
    {
     "data": {
      "image/png": "[encoded data removed]",
      "text/plain": [
       "<Figure size 432x288 with 1 Axes>"
      ]
     },
     "metadata": {
      "needs_background": "light"
     },
     "output_type": "display_data"
    }
   ],
   "source": [
    "ax = sns.histplot(data = df, x='px_height') #membuat plot histogram px_height sepanjang sumbu x\n",
    "plt.show() #menampilkan visualisasi"
   ]
  },
  {
   "cell_type": "code",
   "execution_count": 162,
   "id": "ef98374f",
   "metadata": {},
   "outputs": [
    {
     "data": {
      "image/png": "[encoded data removed]",
      "text/plain": [
       "<Figure size 432x288 with 1 Axes>"
      ]
     },
     "metadata": {
      "needs_background": "light"
     },
     "output_type": "display_data"
    }
   ],
   "source": [
    "ax = sns.histplot(data = df, x='px_width') #membuat plot histogram px_width sepanjang sumbu x\n",
    "plt.show() #menampilkan visualisasi"
   ]
  },
  {
   "cell_type": "code",
   "execution_count": 163,
   "id": "f1d469e1",
   "metadata": {},
   "outputs": [
    {
     "data": {
      "image/png": "[encoded data removed]",
      "text/plain": [
       "<Figure size 432x288 with 1 Axes>"
      ]
     },
     "metadata": {
      "needs_background": "light"
     },
     "output_type": "display_data"
    }
   ],
   "source": [
    "ax = sns.histplot(data = df, x='ram') #membuat plot histogram ram sepanjang sumbu x\n",
    "plt.show() #menampilkan visualisasi"
   ]
  },
  {
   "cell_type": "code",
   "execution_count": 164,
   "id": "f2e3b0cc",
   "metadata": {},
   "outputs": [
    {
     "data": {
      "image/png": "[encoded data removed]",
      "text/plain": [
       "<Figure size 432x288 with 1 Axes>"
      ]
     },
     "metadata": {
      "needs_background": "light"
     },
     "output_type": "display_data"
    }
   ],
   "source": [
    "ax = sns.histplot(data = df, x='sc_h') #membuat plot histogram sc_h sepanjang sumbu x\n",
    "plt.show() #menampilkan visualisasi"
   ]
  },
  {
   "cell_type": "code",
   "execution_count": 165,
   "id": "61ccaa09",
   "metadata": {},
   "outputs": [
    {
     "data": {
      "image/png": "[encoded data removed]",
      "text/plain": [
       "<Figure size 432x288 with 1 Axes>"
      ]
     },
     "metadata": {
      "needs_background": "light"
     },
     "output_type": "display_data"
    }
   ],
   "source": [
    "ax = sns.histplot(data = df, x='sc_w') #membuat plot histogram sc_w sepanjang sumbu x\n",
    "plt.show() #menampilkan visualisasi"
   ]
  },
  {
   "cell_type": "code",
   "execution_count": 166,
   "id": "e14130b0",
   "metadata": {},
   "outputs": [
    {
     "data": {
      "image/png": "[encoded data removed]",
      "text/plain": [
       "<Figure size 432x288 with 1 Axes>"
      ]
     },
     "metadata": {
      "needs_background": "light"
     },
     "output_type": "display_data"
    }
   ],
   "source": [
    "ax = sns.histplot(data = df, x='talk_time') #membuat plot histogram talk_time sepanjang sumbu x\n",
    "plt.show() #menampilkan visualisasi"
   ]
  },
  {
   "cell_type": "code",
   "execution_count": 167,
   "id": "18a6c6e6",
   "metadata": {},
   "outputs": [
    {
     "data": {
      "image/png": "[encoded data removed]",
      "text/plain": [
       "<Figure size 432x288 with 1 Axes>"
      ]
     },
     "metadata": {
      "needs_background": "light"
     },
     "output_type": "display_data"
    }
   ],
   "source": [
    "ax = sns.histplot(data = df, x='three_g') #membuat plot histogram three_g sepanjang sumbu x\n",
    "plt.show() #menampilkan visualisasi"
   ]
  },
  {
   "cell_type": "code",
   "execution_count": 168,
   "id": "32fd2fe9",
   "metadata": {},
   "outputs": [
    {
     "data": {
      "image/png": "[encoded data removed]",
      "text/plain": [
       "<Figure size 432x288 with 1 Axes>"
      ]
     },
     "metadata": {
      "needs_background": "light"
     },
     "output_type": "display_data"
    }
   ],
   "source": [
    "ax = sns.histplot(data = df, x='touch_screen') #membuat plot histogram touch_screen sepanjang sumbu x\n",
    "plt.show() #menampilkan visualisasi"
   ]
  },
  {
   "cell_type": "code",
   "execution_count": 169,
   "id": "e91b2a33",
   "metadata": {},
   "outputs": [
    {
     "data": {
      "image/png": "[encoded data removed]",
      "text/plain": [
       "<Figure size 432x288 with 1 Axes>"
      ]
     },
     "metadata": {
      "needs_background": "light"
     },
     "output_type": "display_data"
    }
   ],
   "source": [
    "ax = sns.histplot(data = df, x='wifi') #membuat plot histogram wifi sepanjang sumbu x\n",
    "plt.show() #menampilkan visualisasi"
   ]
  },
  {
   "cell_type": "code",
   "execution_count": 170,
   "id": "d57bb2e1",
   "metadata": {
    "scrolled": false
   },
   "outputs": [
    {
     "data": {
      "image/png": "[encoded data removed]",
      "text/plain": [
       "<Figure size 432x288 with 1 Axes>"
      ]
     },
     "metadata": {
      "needs_background": "light"
     },
     "output_type": "display_data"
    }
   ],
   "source": [
    "ax = sns.histplot(data = df, x='price_range') #membuat plot histogram price_range sepanjang sumbu x\n",
    "plt.show() #menampilkan visualisasi"
   ]
  },
  {
   "cell_type": "code",
   "execution_count": 186,
   "id": "04e22ddc",
   "metadata": {
    "scrolled": false
   },
   "outputs": [
    {
     "data": {
      "text/plain": [
       "Text(0.5, 1.0, 'Correlation ')"
      ]
     },
     "execution_count": 186,
     "metadata": {},
     "output_type": "execute_result"
    },
    {
     "data": {
      "image/png": "[encoded data removed]",
      "text/plain": [
       "<Figure size 1080x864 with 2 Axes>"
      ]
     },
     "metadata": {
      "needs_background": "light"
     },
     "output_type": "display_data"
    }
   ],
   "source": [
    "corr=df.corr()\n",
    "fig = plt.figure(figsize=(15,12))\n",
    "r = sns.heatmap(corr, cmap='GnBu')\n",
    "r.set_title(\"Correlation \")"
   ]
  },
  {
   "cell_type": "markdown",
   "id": "5345dac8",
   "metadata": {},
   "source": [
    "price_range memiliki korelasi terhadap ram, px_width, px_height,dan battery power"
   ]
  },
  {
   "cell_type": "markdown",
   "id": "5adec2ce",
   "metadata": {},
   "source": [
    "#### Modelling "
   ]
  },
  {
   "cell_type": "code",
   "execution_count": 171,
   "id": "5d6ab6c3",
   "metadata": {},
   "outputs": [],
   "source": [
    "# defining feature matrix(X) and response vector(y)\n",
    "x = df.loc[:, df.columns != 'price_range'] #mendefinisikan x degnan memilih semua kolom kecuali kolom price_range\n",
    "y = df[\"price_range\"] #mendefinisikan y dengan kolom price-range"
   ]
  },
  {
   "cell_type": "code",
   "execution_count": 172,
   "id": "feb83ffb",
   "metadata": {},
   "outputs": [],
   "source": [
    "# splitting x and y into training and testing sets\n",
    "from sklearn.model_selection import train_test_split #mengimport library train_test_split dari sklearn.model_selection\n",
    "x_train, x_test, y_train, y_test = train_test_split(x, y, test_size=0.4, random_state=1) "
   ]
  },
  {
   "cell_type": "markdown",
   "id": "d655156e",
   "metadata": {},
   "source": [
    "- x_train : Untuk menampung data source yang akan dilatih.\n",
    "- x_test : Untuk menampung data target yang akan dilatih.\n",
    "- y_train : Untuk menampung data source yang akan digunakan untuk testing.\n",
    "- y_test : Untuk menampung data target yang akan digunakan untuk testing.\n",
    "- x dan y adalah nama variabel yang digunakan saat mendefinisikan data source dan data target.\n",
    "- Parameter test_size digunakan untuk mendefinisikan ukuran data testing. \n",
    "- Dalam contoh di atas, test_size=0.4 berarti data yang digunakan sebagai data testing adalah sebesar 40% dari keseluruhan dataset."
   ]
  },
  {
   "cell_type": "code",
   "execution_count": 173,
   "id": "05addc24",
   "metadata": {
    "scrolled": true
   },
   "outputs": [],
   "source": [
    "# Decision Tree\n",
    "from sklearn import tree #mengimport library tree dari sklearn\n",
    "dtree = tree.DecisionTreeClassifier()\n",
    "dtree = dtree.fit(x_train, y_train)"
   ]
  },
  {
   "cell_type": "markdown",
   "id": "d4f939c1",
   "metadata": {},
   "source": [
    "Penjelasan kode di atas yaitu membuat model klasifikasi dari data latih dan data uji yang telah ditetapkan menggunakan decision tree. Model klasifikasi disimpan pada atribut dtree."
   ]
  },
  {
   "cell_type": "code",
   "execution_count": 174,
   "id": "e9ea77d2",
   "metadata": {},
   "outputs": [
    {
     "name": "stdout",
     "output_type": "stream",
     "text": [
      "|--- feature_13 <= 2460.50\n",
      "|   |--- feature_13 <= 1177.00\n",
      "|   |   |--- feature_11 <= 1231.50\n",
      "|   |   |   |--- feature_0 <= 1767.50\n",
      "|   |   |   |   |--- feature_13 <= 1067.00\n",
      "|   |   |   |   |   |--- feature_6 <= 63.50\n",
      "|   |   |   |   |   |   |--- feature_13 <= 835.50\n",
      "|   |   |   |   |   |   |   |--- class: 0\n",
      "|   |   |   |   |   |   |--- feature_13 >  835.50\n",
      "|   |   |   |   |   |   |   |--- feature_12 <= 1816.50\n",
      "|   |   |   |   |   |   |   |   |--- feature_11 <= 1096.00\n",
      "|   |   |   |   |   |   |   |   |   |--- feature_0 <= 1632.50\n",
      "|   |   |   |   |   |   |   |   |   |   |--- class: 0\n",
      "|   |   |   |   |   |   |   |   |   |--- feature_0 >  1632.50\n",
      "|   |   |   |   |   |   |   |   |   |   |--- feature_7 <= 0.80\n",
      "|   |   |   |   |   |   |   |   |   |   |   |--- class: 0\n",
      "|   |   |   |   |   |   |   |   |   |   |--- feature_7 >  0.80\n",
      "|   |   |   |   |   |   |   |   |   |   |   |--- class: 1\n",
      "|   |   |   |   |   |   |   |   |--- feature_11 >  1096.00\n",
      "|   |   |   |   |   |   |   |   |   |--- class: 1\n",
      "|   |   |   |   |   |   |   |--- feature_12 >  1816.50\n",
      "|   |   |   |   |   |   |   |   |--- class: 1\n",
      "|   |   |   |   |   |--- feature_6 >  63.50\n",
      "|   |   |   |   |   |   |--- feature_14 <= 13.50\n",
      "|   |   |   |   |   |   |   |--- class: 1\n",
      "|   |   |   |   |   |   |--- feature_14 >  13.50\n",
      "|   |   |   |   |   |   |   |--- class: 0\n",
      "|   |   |   |   |--- feature_13 >  1067.00\n",
      "|   |   |   |   |   |--- feature_8 <= 169.00\n",
      "|   |   |   |   |   |   |--- feature_12 <= 1865.50\n",
      "|   |   |   |   |   |   |   |--- feature_4 <= 9.50\n",
      "|   |   |   |   |   |   |   |   |--- class: 0\n",
      "|   |   |   |   |   |   |   |--- feature_4 >  9.50\n",
      "|   |   |   |   |   |   |   |   |--- feature_0 <= 1154.50\n",
      "|   |   |   |   |   |   |   |   |   |--- class: 0\n",
      "|   |   |   |   |   |   |   |   |--- feature_0 >  1154.50\n",
      "|   |   |   |   |   |   |   |   |   |--- class: 1\n",
      "|   |   |   |   |   |   |--- feature_12 >  1865.50\n",
      "|   |   |   |   |   |   |   |--- class: 1\n",
      "|   |   |   |   |   |--- feature_8 >  169.00\n",
      "|   |   |   |   |   |   |--- class: 1\n",
      "|   |   |   |--- feature_0 >  1767.50\n",
      "|   |   |   |   |--- feature_12 <= 1399.00\n",
      "|   |   |   |   |   |--- feature_13 <= 900.50\n",
      "|   |   |   |   |   |   |--- class: 0\n",
      "|   |   |   |   |   |--- feature_13 >  900.50\n",
      "|   |   |   |   |   |   |--- feature_16 <= 16.50\n",
      "|   |   |   |   |   |   |   |--- class: 1\n",
      "|   |   |   |   |   |   |--- feature_16 >  16.50\n",
      "|   |   |   |   |   |   |   |--- class: 0\n",
      "|   |   |   |   |--- feature_12 >  1399.00\n",
      "|   |   |   |   |   |--- feature_7 <= 0.80\n",
      "|   |   |   |   |   |   |--- class: 1\n",
      "|   |   |   |   |   |--- feature_7 >  0.80\n",
      "|   |   |   |   |   |   |--- class: 0\n",
      "|   |   |--- feature_11 >  1231.50\n",
      "|   |   |   |--- feature_13 <= 555.00\n",
      "|   |   |   |   |--- feature_11 <= 1689.00\n",
      "|   |   |   |   |   |--- class: 0\n",
      "|   |   |   |   |--- feature_11 >  1689.00\n",
      "|   |   |   |   |   |--- class: 1\n",
      "|   |   |   |--- feature_13 >  555.00\n",
      "|   |   |   |   |--- feature_0 <= 636.00\n",
      "|   |   |   |   |   |--- class: 0\n",
      "|   |   |   |   |--- feature_0 >  636.00\n",
      "|   |   |   |   |   |--- feature_16 <= 19.50\n",
      "|   |   |   |   |   |   |--- feature_12 <= 1468.00\n",
      "|   |   |   |   |   |   |   |--- feature_18 <= 0.50\n",
      "|   |   |   |   |   |   |   |   |--- class: 0\n",
      "|   |   |   |   |   |   |   |--- feature_18 >  0.50\n",
      "|   |   |   |   |   |   |   |   |--- class: 1\n",
      "|   |   |   |   |   |   |--- feature_12 >  1468.00\n",
      "|   |   |   |   |   |   |   |--- class: 1\n",
      "|   |   |   |   |   |--- feature_16 >  19.50\n",
      "|   |   |   |   |   |   |--- feature_4 <= 6.00\n",
      "|   |   |   |   |   |   |   |--- class: 1\n",
      "|   |   |   |   |   |   |--- feature_4 >  6.00\n",
      "|   |   |   |   |   |   |   |--- class: 0\n",
      "|   |--- feature_13 >  1177.00\n",
      "|   |   |--- feature_13 <= 1894.50\n",
      "|   |   |   |--- feature_0 <= 1033.00\n",
      "|   |   |   |   |--- feature_13 <= 1534.50\n",
      "|   |   |   |   |   |--- feature_11 <= 835.00\n",
      "|   |   |   |   |   |   |--- feature_12 <= 1731.50\n",
      "|   |   |   |   |   |   |   |--- class: 0\n",
      "|   |   |   |   |   |   |--- feature_12 >  1731.50\n",
      "|   |   |   |   |   |   |   |--- feature_12 <= 1915.50\n",
      "|   |   |   |   |   |   |   |   |--- class: 1\n",
      "|   |   |   |   |   |   |   |--- feature_12 >  1915.50\n",
      "|   |   |   |   |   |   |   |   |--- class: 0\n",
      "|   |   |   |   |   |--- feature_11 >  835.00\n",
      "|   |   |   |   |   |   |--- class: 1\n",
      "|   |   |   |   |--- feature_13 >  1534.50\n",
      "|   |   |   |   |   |--- feature_12 <= 1192.50\n",
      "|   |   |   |   |   |   |--- feature_10 <= 8.00\n",
      "|   |   |   |   |   |   |   |--- class: 1\n",
      "|   |   |   |   |   |   |--- feature_10 >  8.00\n",
      "|   |   |   |   |   |   |   |--- feature_8 <= 121.50\n",
      "|   |   |   |   |   |   |   |   |--- class: 1\n",
      "|   |   |   |   |   |   |   |--- feature_8 >  121.50\n",
      "|   |   |   |   |   |   |   |   |--- class: 0\n",
      "|   |   |   |   |   |--- feature_12 >  1192.50\n",
      "|   |   |   |   |   |   |--- class: 1\n",
      "|   |   |   |--- feature_0 >  1033.00\n",
      "|   |   |   |   |--- feature_11 <= 1535.50\n",
      "|   |   |   |   |   |--- feature_11 <= 940.00\n",
      "|   |   |   |   |   |   |--- feature_12 <= 513.00\n",
      "|   |   |   |   |   |   |   |--- feature_0 <= 1588.00\n",
      "|   |   |   |   |   |   |   |   |--- class: 0\n",
      "|   |   |   |   |   |   |   |--- feature_0 >  1588.00\n",
      "|   |   |   |   |   |   |   |   |--- class: 1\n",
      "|   |   |   |   |   |   |--- feature_12 >  513.00\n",
      "|   |   |   |   |   |   |   |--- feature_12 <= 1976.00\n",
      "|   |   |   |   |   |   |   |   |--- feature_2 <= 2.85\n",
      "|   |   |   |   |   |   |   |   |   |--- feature_13 <= 1883.50\n",
      "|   |   |   |   |   |   |   |   |   |   |--- feature_9 <= 1.50\n",
      "|   |   |   |   |   |   |   |   |   |   |   |--- truncated branch of depth 3\n",
      "|   |   |   |   |   |   |   |   |   |   |--- feature_9 >  1.50\n",
      "|   |   |   |   |   |   |   |   |   |   |   |--- class: 1\n",
      "|   |   |   |   |   |   |   |   |   |--- feature_13 >  1883.50\n",
      "|   |   |   |   |   |   |   |   |   |   |--- feature_2 <= 1.40\n",
      "|   |   |   |   |   |   |   |   |   |   |   |--- class: 2\n",
      "|   |   |   |   |   |   |   |   |   |   |--- feature_2 >  1.40\n",
      "|   |   |   |   |   |   |   |   |   |   |   |--- class: 1\n",
      "|   |   |   |   |   |   |   |   |--- feature_2 >  2.85\n",
      "|   |   |   |   |   |   |   |   |   |--- feature_6 <= 16.00\n",
      "|   |   |   |   |   |   |   |   |   |   |--- class: 1\n",
      "|   |   |   |   |   |   |   |   |   |--- feature_6 >  16.00\n",
      "|   |   |   |   |   |   |   |   |   |   |--- class: 0\n",
      "|   |   |   |   |   |   |   |--- feature_12 >  1976.00\n",
      "|   |   |   |   |   |   |   |   |--- feature_6 <= 42.50\n",
      "|   |   |   |   |   |   |   |   |   |--- class: 1\n",
      "|   |   |   |   |   |   |   |   |--- feature_6 >  42.50\n",
      "|   |   |   |   |   |   |   |   |   |--- class: 2\n",
      "|   |   |   |   |   |--- feature_11 >  940.00\n",
      "|   |   |   |   |   |   |--- feature_0 <= 1901.50\n",
      "|   |   |   |   |   |   |   |--- feature_13 <= 1568.00\n",
      "|   |   |   |   |   |   |   |   |--- class: 1\n",
      "|   |   |   |   |   |   |   |--- feature_13 >  1568.00\n",
      "|   |   |   |   |   |   |   |   |--- feature_0 <= 1232.50\n",
      "|   |   |   |   |   |   |   |   |   |--- class: 1\n",
      "|   |   |   |   |   |   |   |   |--- feature_0 >  1232.50\n",
      "|   |   |   |   |   |   |   |   |   |--- feature_15 <= 1.50\n",
      "|   |   |   |   |   |   |   |   |   |   |--- class: 1\n",
      "|   |   |   |   |   |   |   |   |   |--- feature_15 >  1.50\n",
      "|   |   |   |   |   |   |   |   |   |   |--- class: 2\n",
      "|   |   |   |   |   |   |--- feature_0 >  1901.50\n",
      "|   |   |   |   |   |   |   |--- class: 2\n",
      "|   |   |   |   |--- feature_11 >  1535.50\n",
      "|   |   |   |   |   |--- feature_0 <= 1434.00\n",
      "|   |   |   |   |   |   |--- feature_6 <= 37.50\n",
      "|   |   |   |   |   |   |   |--- class: 1\n",
      "|   |   |   |   |   |   |--- feature_6 >  37.50\n",
      "|   |   |   |   |   |   |   |--- class: 2\n",
      "|   |   |   |   |   |--- feature_0 >  1434.00\n",
      "|   |   |   |   |   |   |--- class: 2\n",
      "|   |   |--- feature_13 >  1894.50\n",
      "|   |   |   |--- feature_0 <= 1435.50\n",
      "|   |   |   |   |--- feature_11 <= 1098.00\n",
      "|   |   |   |   |   |--- feature_0 <= 1135.00\n",
      "|   |   |   |   |   |   |--- feature_11 <= 967.00\n",
      "|   |   |   |   |   |   |   |--- feature_12 <= 581.00\n",
      "|   |   |   |   |   |   |   |   |--- feature_16 <= 15.50\n",
      "|   |   |   |   |   |   |   |   |   |--- class: 0\n",
      "|   |   |   |   |   |   |   |   |--- feature_16 >  15.50\n",
      "|   |   |   |   |   |   |   |   |   |--- class: 1\n",
      "|   |   |   |   |   |   |   |--- feature_12 >  581.00\n",
      "|   |   |   |   |   |   |   |   |--- feature_12 <= 1616.00\n",
      "|   |   |   |   |   |   |   |   |   |--- class: 1\n",
      "|   |   |   |   |   |   |   |   |--- feature_12 >  1616.00\n",
      "|   |   |   |   |   |   |   |   |   |--- feature_12 <= 1703.00\n",
      "|   |   |   |   |   |   |   |   |   |   |--- feature_2 <= 1.35\n",
      "|   |   |   |   |   |   |   |   |   |   |   |--- class: 1\n",
      "|   |   |   |   |   |   |   |   |   |   |--- feature_2 >  1.35\n",
      "|   |   |   |   |   |   |   |   |   |   |   |--- class: 2\n",
      "|   |   |   |   |   |   |   |   |   |--- feature_12 >  1703.00\n",
      "|   |   |   |   |   |   |   |   |   |   |--- class: 1\n",
      "|   |   |   |   |   |   |--- feature_11 >  967.00\n",
      "|   |   |   |   |   |   |   |--- feature_13 <= 2070.50\n",
      "|   |   |   |   |   |   |   |   |--- class: 1\n",
      "|   |   |   |   |   |   |   |--- feature_13 >  2070.50\n",
      "|   |   |   |   |   |   |   |   |--- class: 2\n",
      "|   |   |   |   |   |--- feature_0 >  1135.00\n",
      "|   |   |   |   |   |   |--- feature_12 <= 1179.00\n",
      "|   |   |   |   |   |   |   |--- feature_13 <= 2380.50\n",
      "|   |   |   |   |   |   |   |   |--- feature_4 <= 14.50\n",
      "|   |   |   |   |   |   |   |   |   |--- class: 1\n",
      "|   |   |   |   |   |   |   |   |--- feature_4 >  14.50\n",
      "|   |   |   |   |   |   |   |   |   |--- class: 2\n",
      "|   |   |   |   |   |   |   |--- feature_13 >  2380.50\n",
      "|   |   |   |   |   |   |   |   |--- class: 2\n",
      "|   |   |   |   |   |   |--- feature_12 >  1179.00\n",
      "|   |   |   |   |   |   |   |--- class: 2\n",
      "|   |   |   |   |--- feature_11 >  1098.00\n",
      "|   |   |   |   |   |--- class: 2\n",
      "|   |   |   |--- feature_0 >  1435.50\n",
      "|   |   |   |   |--- feature_11 <= 1409.50\n",
      "|   |   |   |   |   |--- feature_12 <= 681.50\n",
      "|   |   |   |   |   |   |--- feature_0 <= 1626.00\n",
      "|   |   |   |   |   |   |   |--- class: 1\n",
      "|   |   |   |   |   |   |--- feature_0 >  1626.00\n",
      "|   |   |   |   |   |   |   |--- class: 2\n",
      "|   |   |   |   |   |--- feature_12 >  681.50\n",
      "|   |   |   |   |   |   |--- feature_10 <= 0.50\n",
      "|   |   |   |   |   |   |   |--- feature_8 <= 121.00\n",
      "|   |   |   |   |   |   |   |   |--- class: 1\n",
      "|   |   |   |   |   |   |   |--- feature_8 >  121.00\n",
      "|   |   |   |   |   |   |   |   |--- class: 2\n",
      "|   |   |   |   |   |   |--- feature_10 >  0.50\n",
      "|   |   |   |   |   |   |   |--- class: 2\n",
      "|   |   |   |   |--- feature_11 >  1409.50\n",
      "|   |   |   |   |   |--- feature_16 <= 10.00\n",
      "|   |   |   |   |   |   |--- class: 2\n",
      "|   |   |   |   |   |--- feature_16 >  10.00\n",
      "|   |   |   |   |   |   |--- class: 3\n",
      "|--- feature_13 >  2460.50\n",
      "|   |--- feature_13 <= 3193.50\n",
      "|   |   |--- feature_0 <= 1269.00\n",
      "|   |   |   |--- feature_0 <= 573.50\n",
      "|   |   |   |   |--- feature_13 <= 2884.50\n",
      "|   |   |   |   |   |--- feature_11 <= 599.50\n",
      "|   |   |   |   |   |   |--- class: 1\n",
      "|   |   |   |   |   |--- feature_11 >  599.50\n",
      "|   |   |   |   |   |   |--- class: 2\n",
      "|   |   |   |   |--- feature_13 >  2884.50\n",
      "|   |   |   |   |   |--- class: 2\n",
      "|   |   |   |--- feature_0 >  573.50\n",
      "|   |   |   |   |--- feature_11 <= 1110.00\n",
      "|   |   |   |   |   |--- feature_11 <= 8.50\n",
      "|   |   |   |   |   |   |--- class: 1\n",
      "|   |   |   |   |   |--- feature_11 >  8.50\n",
      "|   |   |   |   |   |   |--- feature_12 <= 1974.50\n",
      "|   |   |   |   |   |   |   |--- feature_8 <= 85.50\n",
      "|   |   |   |   |   |   |   |   |--- feature_0 <= 629.50\n",
      "|   |   |   |   |   |   |   |   |   |--- class: 1\n",
      "|   |   |   |   |   |   |   |   |--- feature_0 >  629.50\n",
      "|   |   |   |   |   |   |   |   |   |--- feature_12 <= 1308.50\n",
      "|   |   |   |   |   |   |   |   |   |   |--- class: 2\n",
      "|   |   |   |   |   |   |   |   |   |--- feature_12 >  1308.50\n",
      "|   |   |   |   |   |   |   |   |   |   |--- class: 3\n",
      "|   |   |   |   |   |   |   |--- feature_8 >  85.50\n",
      "|   |   |   |   |   |   |   |   |--- feature_14 <= 16.50\n",
      "|   |   |   |   |   |   |   |   |   |--- class: 2\n",
      "|   |   |   |   |   |   |   |   |--- feature_14 >  16.50\n",
      "|   |   |   |   |   |   |   |   |   |--- feature_4 <= 5.50\n",
      "|   |   |   |   |   |   |   |   |   |   |--- class: 2\n",
      "|   |   |   |   |   |   |   |   |   |--- feature_4 >  5.50\n",
      "|   |   |   |   |   |   |   |   |   |   |--- feature_12 <= 1225.50\n",
      "|   |   |   |   |   |   |   |   |   |   |   |--- class: 2\n",
      "|   |   |   |   |   |   |   |   |   |   |--- feature_12 >  1225.50\n",
      "|   |   |   |   |   |   |   |   |   |   |   |--- class: 3\n",
      "|   |   |   |   |   |   |--- feature_12 >  1974.50\n",
      "|   |   |   |   |   |   |   |--- feature_17 <= 0.50\n",
      "|   |   |   |   |   |   |   |   |--- class: 2\n",
      "|   |   |   |   |   |   |   |--- feature_17 >  0.50\n",
      "|   |   |   |   |   |   |   |   |--- class: 3\n",
      "|   |   |   |   |--- feature_11 >  1110.00\n",
      "|   |   |   |   |   |--- feature_13 <= 2793.00\n",
      "|   |   |   |   |   |   |--- class: 2\n",
      "|   |   |   |   |   |--- feature_13 >  2793.00\n",
      "|   |   |   |   |   |   |--- feature_12 <= 1403.00\n",
      "|   |   |   |   |   |   |   |--- class: 2\n",
      "|   |   |   |   |   |   |--- feature_12 >  1403.00\n",
      "|   |   |   |   |   |   |   |--- feature_16 <= 19.00\n",
      "|   |   |   |   |   |   |   |   |--- class: 3\n",
      "|   |   |   |   |   |   |   |--- feature_16 >  19.00\n",
      "|   |   |   |   |   |   |   |   |--- class: 2\n",
      "|   |   |--- feature_0 >  1269.00\n",
      "|   |   |   |--- feature_12 <= 1199.50\n",
      "|   |   |   |   |--- feature_13 <= 3008.50\n",
      "|   |   |   |   |   |--- feature_15 <= 15.50\n",
      "|   |   |   |   |   |   |--- feature_16 <= 19.50\n",
      "|   |   |   |   |   |   |   |--- feature_11 <= 1020.00\n",
      "|   |   |   |   |   |   |   |   |--- class: 2\n",
      "|   |   |   |   |   |   |   |--- feature_11 >  1020.00\n",
      "|   |   |   |   |   |   |   |   |--- feature_12 <= 1145.50\n",
      "|   |   |   |   |   |   |   |   |   |--- class: 3\n",
      "|   |   |   |   |   |   |   |   |--- feature_12 >  1145.50\n",
      "|   |   |   |   |   |   |   |   |   |--- class: 2\n",
      "|   |   |   |   |   |   |--- feature_16 >  19.50\n",
      "|   |   |   |   |   |   |   |--- class: 3\n",
      "|   |   |   |   |   |--- feature_15 >  15.50\n",
      "|   |   |   |   |   |   |--- class: 3\n",
      "|   |   |   |   |--- feature_13 >  3008.50\n",
      "|   |   |   |   |   |--- feature_8 <= 152.50\n",
      "|   |   |   |   |   |   |--- class: 3\n",
      "|   |   |   |   |   |--- feature_8 >  152.50\n",
      "|   |   |   |   |   |   |--- class: 2\n",
      "|   |   |   |--- feature_12 >  1199.50\n",
      "|   |   |   |   |--- feature_13 <= 2645.00\n",
      "|   |   |   |   |   |--- feature_0 <= 1785.50\n",
      "|   |   |   |   |   |   |--- feature_12 <= 1840.00\n",
      "|   |   |   |   |   |   |   |--- feature_15 <= 10.00\n",
      "|   |   |   |   |   |   |   |   |--- class: 2\n",
      "|   |   |   |   |   |   |   |--- feature_15 >  10.00\n",
      "|   |   |   |   |   |   |   |   |--- class: 3\n",
      "|   |   |   |   |   |   |--- feature_12 >  1840.00\n",
      "|   |   |   |   |   |   |   |--- class: 3\n",
      "|   |   |   |   |   |--- feature_0 >  1785.50\n",
      "|   |   |   |   |   |   |--- class: 3\n",
      "|   |   |   |   |--- feature_13 >  2645.00\n",
      "|   |   |   |   |   |--- feature_11 <= 16.50\n",
      "|   |   |   |   |   |   |--- class: 2\n",
      "|   |   |   |   |   |--- feature_11 >  16.50\n",
      "|   |   |   |   |   |   |--- feature_15 <= 15.50\n",
      "|   |   |   |   |   |   |   |--- feature_11 <= 109.50\n",
      "|   |   |   |   |   |   |   |   |--- feature_13 <= 2976.00\n",
      "|   |   |   |   |   |   |   |   |   |--- class: 2\n",
      "|   |   |   |   |   |   |   |   |--- feature_13 >  2976.00\n",
      "|   |   |   |   |   |   |   |   |   |--- class: 3\n",
      "|   |   |   |   |   |   |   |--- feature_11 >  109.50\n",
      "|   |   |   |   |   |   |   |   |--- class: 3\n",
      "|   |   |   |   |   |   |--- feature_15 >  15.50\n",
      "|   |   |   |   |   |   |   |--- class: 2\n",
      "|   |--- feature_13 >  3193.50\n",
      "|   |   |--- feature_0 <= 652.00\n",
      "|   |   |   |--- feature_11 <= 835.00\n",
      "|   |   |   |   |--- feature_13 <= 3747.00\n",
      "|   |   |   |   |   |--- class: 2\n",
      "|   |   |   |   |--- feature_13 >  3747.00\n",
      "|   |   |   |   |   |--- feature_7 <= 0.25\n",
      "|   |   |   |   |   |   |--- class: 2\n",
      "|   |   |   |   |   |--- feature_7 >  0.25\n",
      "|   |   |   |   |   |   |--- class: 3\n",
      "|   |   |   |--- feature_11 >  835.00\n",
      "|   |   |   |   |--- class: 3\n",
      "|   |   |--- feature_0 >  652.00\n",
      "|   |   |   |--- feature_12 <= 1060.50\n",
      "|   |   |   |   |--- feature_0 <= 1251.50\n",
      "|   |   |   |   |   |--- feature_13 <= 3508.50\n",
      "|   |   |   |   |   |   |--- feature_11 <= 738.50\n",
      "|   |   |   |   |   |   |   |--- class: 2\n",
      "|   |   |   |   |   |   |--- feature_11 >  738.50\n",
      "|   |   |   |   |   |   |   |--- class: 3\n",
      "|   |   |   |   |   |--- feature_13 >  3508.50\n",
      "|   |   |   |   |   |   |--- feature_6 <= 2.50\n",
      "|   |   |   |   |   |   |   |--- class: 2\n",
      "|   |   |   |   |   |   |--- feature_6 >  2.50\n",
      "|   |   |   |   |   |   |   |--- feature_11 <= 113.00\n",
      "|   |   |   |   |   |   |   |   |--- feature_4 <= 5.00\n",
      "|   |   |   |   |   |   |   |   |   |--- class: 2\n",
      "|   |   |   |   |   |   |   |   |--- feature_4 >  5.00\n",
      "|   |   |   |   |   |   |   |   |   |--- class: 3\n",
      "|   |   |   |   |   |   |   |--- feature_11 >  113.00\n",
      "|   |   |   |   |   |   |   |   |--- class: 3\n",
      "|   |   |   |   |--- feature_0 >  1251.50\n",
      "|   |   |   |   |   |--- feature_16 <= 19.50\n",
      "|   |   |   |   |   |   |--- class: 3\n",
      "|   |   |   |   |   |--- feature_16 >  19.50\n",
      "|   |   |   |   |   |   |--- feature_11 <= 181.00\n",
      "|   |   |   |   |   |   |   |--- class: 2\n",
      "|   |   |   |   |   |   |--- feature_11 >  181.00\n",
      "|   |   |   |   |   |   |   |--- class: 3\n",
      "|   |   |   |--- feature_12 >  1060.50\n",
      "|   |   |   |   |--- class: 3\n",
      "\n"
     ]
    }
   ],
   "source": [
    "#Build a text report showing the rules of a decision tree.\n",
    "text_representation = tree.export_text(dtree)\n",
    "print(text_representation)"
   ]
  },
  {
   "cell_type": "code",
   "execution_count": 175,
   "id": "b246f1ab",
   "metadata": {},
   "outputs": [],
   "source": [
    "#Hyperparameter Tuning for random forest\n",
    "from sklearn.ensemble import RandomForestClassifier #mengimpor library RandomForestClassifier dari sklearn.ensemble\n",
    "\n",
    "rf = RandomForestClassifier(random_state=42, n_jobs=-1) #mendefinisikan variabel rf dengan menggunakan fungsi RandomForestClassifier dengan random_state=42, random_state adalah pembuat angka acak dan n_jobs=-1, n_jobs adalah Jumlah pekerjaan yang harus dijalankan secara paralel untuk kecocokan dan prediksi \n",
    "\n",
    "params = {\n",
    "    'max_depth': [2,3,5,10,20], #Kedalaman maksimum pohon\n",
    "    'min_samples_leaf': [5,10,20,50,100,200], #Jumlah minimum sampel yang diperlukan untuk berada di simpul daun‎\n",
    "    'n_estimators': [10,25,30,50,100,200] #Jumlah pohon di hutan\n",
    "}"
   ]
  },
  {
   "cell_type": "code",
   "execution_count": 176,
   "id": "8832cb60",
   "metadata": {},
   "outputs": [
    {
     "name": "stdout",
     "output_type": "stream",
     "text": [
      "Fitting 4 folds for each of 180 candidates, totalling 720 fits\n"
     ]
    },
    {
     "data": {
      "text/plain": [
       "GridSearchCV(cv=4, estimator=RandomForestClassifier(n_jobs=-1, random_state=42),\n",
       "             n_jobs=-1,\n",
       "             param_grid={'max_depth': [2, 3, 5, 10, 20],\n",
       "                         'min_samples_leaf': [5, 10, 20, 50, 100, 200],\n",
       "                         'n_estimators': [10, 25, 30, 50, 100, 200]},\n",
       "             scoring='accuracy', verbose=1)"
      ]
     },
     "execution_count": 176,
     "metadata": {},
     "output_type": "execute_result"
    }
   ],
   "source": [
    "from sklearn.model_selection import GridSearchCV #mengimpor GridSearchCV dari sklearn.model_selection\n",
    "\n",
    "#Instantiate the grid search model\n",
    "grid_search = GridSearchCV(estimator=rf, #This is assumed to implement the scikit-learn estimator interface.\n",
    "                           param_grid=params, #Dictionary with parameters names (str) as keys and lists of parameter settings to try as values\n",
    "                           cv = 4, #Determines the cross-validation splitting strategy\n",
    "                           n_jobs=-1, #Number of jobs to run in parallel\n",
    "                           verbose=1, #Controls the verbosity: the higher, the more messages.\n",
    "                           scoring=\"accuracy\") #Strategy to evaluate the performance of the cross-validated model on the test set\n",
    "\n",
    "grid_search.fit(x_train, y_train) #Run fit with all sets of parameters"
   ]
  },
  {
   "cell_type": "code",
   "execution_count": 177,
   "id": "cbfa1525",
   "metadata": {},
   "outputs": [
    {
     "data": {
      "text/plain": [
       "0.8666666666666667"
      ]
     },
     "execution_count": 177,
     "metadata": {},
     "output_type": "execute_result"
    }
   ],
   "source": [
    "grid_search.best_score_ #Score of best_estimator on the left out data"
   ]
  },
  {
   "cell_type": "markdown",
   "id": "5036d9a1",
   "metadata": {},
   "source": [
    "0.8666666666666667 merupakan hasil dari kombinasi dari hyperparameter yang digunakan pada model RandomForest"
   ]
  },
  {
   "cell_type": "code",
   "execution_count": 178,
   "id": "f6505492",
   "metadata": {
    "scrolled": true
   },
   "outputs": [
    {
     "data": {
      "text/plain": [
       "RandomForestClassifier(max_depth=10, min_samples_leaf=5, n_estimators=200,\n",
       "                       n_jobs=-1, random_state=42)"
      ]
     },
     "execution_count": 178,
     "metadata": {},
     "output_type": "execute_result"
    }
   ],
   "source": [
    "rf_best = grid_search.best_estimator_ #Estimator that was chosen by the search\n",
    "rf_best.fit(x_train, y_train) #Run fit with all sets of parameters."
   ]
  },
  {
   "cell_type": "code",
   "execution_count": 179,
   "id": "8031978e",
   "metadata": {},
   "outputs": [],
   "source": [
    "#Support Vector Machine\n",
    "from sklearn import svm #mengimport svm dari sklearn\n",
    "clf = svm.SVC() #mendefinisikan clf sebagai model SVM\n",
    "clf = clf.fit(x_train, y_train) #membuat model SVM nya terhadap Training set"
   ]
  },
  {
   "cell_type": "markdown",
   "id": "f69c1f11",
   "metadata": {},
   "source": [
    "#### Evaluation"
   ]
  },
  {
   "cell_type": "code",
   "execution_count": 180,
   "id": "43409a4c",
   "metadata": {},
   "outputs": [],
   "source": [
    "y_svm = clf.predict(x_test) #mendefinisikan objek y_svm sebagai hasil prediksi dari model svm yang dibuat ke test set\n",
    "y_dtree = dtree.predict(x_test) #mendefinisikan objek y_dtree sebagai hasil prediksi dari model decision treee yang dibuat ke test set\n",
    "y_rf = rf_best.predict(x_test) #mendefinisikan objek y_rf sebagai hasil prediksi dari model decision treee yang dibuat ke test set"
   ]
  },
  {
   "cell_type": "code",
   "execution_count": 181,
   "id": "c9489364",
   "metadata": {},
   "outputs": [
    {
     "name": "stdout",
     "output_type": "stream",
     "text": [
      "0.8225\n",
      "0.855\n",
      "0.94625\n"
     ]
    }
   ],
   "source": [
    "from sklearn.metrics import accuracy_score #mengimport accuracy_score dari sklearn.metrics\n",
    "print(accuracy_score(y_test, y_dtree)) \n",
    "print(accuracy_score(y_test, y_rf))\n",
    "print(accuracy_score(y_test, y_svm))"
   ]
  },
  {
   "cell_type": "markdown",
   "id": "f6f0aec3",
   "metadata": {},
   "source": [
    "Accuracy classification score\n",
    "\n",
    "Dalam klasifikasi multilabel, fungsi ini menghitung akurasi subset: kumpulan label yang diprediksi untuk sampel harus sama persis dengan kumpulan label yang sesuai dalam y_test. Dari skor akurasi di atas diperoleh : \n",
    "- 0.81 untuk Decision Tree\n",
    "- 0.855 untuk Random Forest\n",
    "- 0.94625 untuk Support Vector Machine\n",
    "\n",
    "Jadi, Support Vector machine merupakan model yang memiliki nilai tertinggi pada evaluasi dengan accurary_score"
   ]
  },
  {
   "cell_type": "code",
   "execution_count": 182,
   "id": "8ee5c0ed",
   "metadata": {},
   "outputs": [
    {
     "name": "stdout",
     "output_type": "stream",
     "text": [
      "0.8286373501993196\n",
      "0.8560119887647354\n",
      "0.9465286835864329\n"
     ]
    }
   ],
   "source": [
    "from sklearn.metrics import precision_score #mengimport precision_score dari sklearn.metrics\n",
    "print(precision_score(y_test, y_dtree, average='macro'))\n",
    "print(precision_score(y_test, y_rf, average='macro'))\n",
    "print(precision_score(y_test, y_svm, average='macro'))"
   ]
  },
  {
   "cell_type": "markdown",
   "id": "73995180",
   "metadata": {},
   "source": [
    "Compute the precision\n",
    "\n",
    "Presisi adalah rasio tp / (tp + fp) di mana tp adalah jumlah positif benar dan fp jumlah positif palsu. Presisi secara intuitif adalah kemampuan pengklasifikasi untuk tidak memberi label positif pada sampel yang negatif.\n",
    "\n",
    "Nilai terbaik adalah 1 dan nilai terburuk adalah 0. Dari skor di atas diperoleh :\n",
    "- 0.8120835300627489 untuk Decision Tree\n",
    "- 0.8560119887647354 untuk Random Forest\n",
    "- 0.9465286835864329 untuk Support Vector Machine\n",
    "\n",
    "Jadi, Support Vector machine merupakan model yang memiliki nilai terbaik dikarenakan nilainya mendekati 1 pada evaluasi menggunakan precision_score"
   ]
  },
  {
   "cell_type": "code",
   "execution_count": 183,
   "id": "b118aee6",
   "metadata": {},
   "outputs": [
    {
     "name": "stdout",
     "output_type": "stream",
     "text": [
      "0.8244565217391304\n",
      "0.8589783706631532\n",
      "0.9487675669740887\n"
     ]
    }
   ],
   "source": [
    "from sklearn.metrics import recall_score #mengimport recall_score dari sklearn.metrics\n",
    "print(recall_score(y_test, y_dtree, average='macro'))\n",
    "print(recall_score(y_test, y_rf, average='macro'))\n",
    "print(recall_score(y_test, y_svm, average='macro'))"
   ]
  },
  {
   "cell_type": "markdown",
   "id": "5b0068a6",
   "metadata": {},
   "source": [
    "Compute the recall\n",
    "\n",
    "Penarikan kembali adalah rasio tp / (tp + fn) di mana tp adalah jumlah positif benar dan fn jumlah negatif palsu. Penarikan kembali secara intuitif adalah kemampuan pengklasifikasi untuk menemukan semua sampel positif.\n",
    "\n",
    "Nilai terbaik adalah 1 dan nilai terburuk adalah 0. Dari skor di atas diperoleh :\n",
    "- 0.8083552920509443 untuk Decision Tree\n",
    "- 0.8589783706631532 untuk Random Forest\n",
    "- 0.9487675669740887 untuk Support Vector Machine\n",
    "\n",
    "Jadi, Support Vector machine merupakan model yang memiliki nilai terbaik dikarenakan nilainya mendekati 1 pada evaluasi menggunakan recall_score"
   ]
  },
  {
   "cell_type": "code",
   "execution_count": 184,
   "id": "6c7468b0",
   "metadata": {
    "scrolled": true
   },
   "outputs": [
    {
     "name": "stdout",
     "output_type": "stream",
     "text": [
      "[[156  28   0   0]\n",
      " [ 15 162  21   0]\n",
      " [  0  27 169  24]\n",
      " [  0   0  27 171]]\n",
      "[[171  13   0   0]\n",
      " [ 21 163  14   0]\n",
      " [  0  33 167  20]\n",
      " [  0   0  15 183]]\n",
      "[[183   1   0   0]\n",
      " [  7 187   4   0]\n",
      " [  0  11 195  14]\n",
      " [  0   0   6 192]]\n"
     ]
    }
   ],
   "source": [
    "from sklearn.metrics import confusion_matrix #mengimport confusion_matrix dari sklearn.metrics\n",
    "print(confusion_matrix(y_test, y_dtree))\n",
    "print(confusion_matrix(y_test, y_rf))\n",
    "print(confusion_matrix(y_test, y_svm))"
   ]
  },
  {
   "cell_type": "markdown",
   "id": "fcf95c78",
   "metadata": {},
   "source": [
    "Compute confusion matrix to evaluate the accuracy of a classification\n",
    "\n",
    "Menurut definisi matriks konfusi C sedemikian rupa sehingga Ci,j sama dengan jumlah pengamatan yang diketahui berada di grup i dan diprediksi berada di grup j.\n",
    "\n",
    "Jadi dalam klasifikasi biner, jumlah negatif benar adalah C0,0, negatif palsu adalah C1,0, positif benar adalah C1,1 dan positif palsu adalah C0,1."
   ]
  },
  {
   "cell_type": "code",
   "execution_count": 185,
   "id": "f8575a33",
   "metadata": {},
   "outputs": [
    {
     "name": "stdout",
     "output_type": "stream",
     "text": [
      "              precision    recall  f1-score   support\n",
      "\n",
      "           0       0.91      0.85      0.88       184\n",
      "           1       0.75      0.82      0.78       198\n",
      "           2       0.78      0.77      0.77       220\n",
      "           3       0.88      0.86      0.87       198\n",
      "\n",
      "    accuracy                           0.82       800\n",
      "   macro avg       0.83      0.82      0.83       800\n",
      "weighted avg       0.83      0.82      0.82       800\n",
      "\n",
      "              precision    recall  f1-score   support\n",
      "\n",
      "           0       0.89      0.93      0.91       184\n",
      "           1       0.78      0.82      0.80       198\n",
      "           2       0.85      0.76      0.80       220\n",
      "           3       0.90      0.92      0.91       198\n",
      "\n",
      "    accuracy                           0.85       800\n",
      "   macro avg       0.86      0.86      0.86       800\n",
      "weighted avg       0.86      0.85      0.85       800\n",
      "\n",
      "              precision    recall  f1-score   support\n",
      "\n",
      "           0       0.96      0.99      0.98       184\n",
      "           1       0.94      0.94      0.94       198\n",
      "           2       0.95      0.89      0.92       220\n",
      "           3       0.93      0.97      0.95       198\n",
      "\n",
      "    accuracy                           0.95       800\n",
      "   macro avg       0.95      0.95      0.95       800\n",
      "weighted avg       0.95      0.95      0.95       800\n",
      "\n"
     ]
    }
   ],
   "source": [
    "from sklearn.metrics import classification_report #mengimport classification_report dari sklearn.metrics\n",
    "print(classification_report(y_test, y_dtree))\n",
    "print(classification_report(y_test, y_rf))\n",
    "print(classification_report(y_test, y_svm))"
   ]
  },
  {
   "cell_type": "markdown",
   "id": "02773960",
   "metadata": {},
   "source": [
    "Classification Report\n",
    "\n",
    "Build a text report showing the main classification metrics"
   ]
  },
  {
   "cell_type": "markdown",
   "id": "0af8de36",
   "metadata": {},
   "source": [
    "Dari hasil model yang telah dibuat, dapat disimpulkan bahwa ada beberapa faktor yang memengaruhi price_range pada smartphone, yaitu:\n",
    "\n",
    "- battery_power\n",
    "- int_memory\n",
    "- px_height\n",
    "- px_width\n",
    "- ram"
   ]
  }
 ],
 "metadata": {
  "kernelspec": {
   "display_name": "Python 3 (ipykernel)",
   "language": "python",
   "name": "python3"
  },
  "language_info": {
   "codemirror_mode": {
    "name": "ipython",
    "version": 3
   },
   "file_extension": ".py",
   "mimetype": "text/x-python",
   "name": "python",
   "nbconvert_exporter": "python",
   "pygments_lexer": "ipython3",
   "version": "3.9.7"
  }
 },
 "nbformat": 4,
 "nbformat_minor": 5
}
